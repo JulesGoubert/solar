{
 "cells": [
  {
   "cell_type": "code",
   "execution_count": 180,
   "metadata": {},
   "outputs": [
    {
     "name": "stdout",
     "output_type": "stream",
     "text": [
      "1.4.1.post1\n"
     ]
    }
   ],
   "source": [
    "# Python ≥3.5 is required\n",
    "import sys\n",
    "assert sys.version_info >= (3, 7)\n",
    "\n",
    "# Scikit-Learn ≥ 1.0.1 is required\n",
    "from packaging import version\n",
    "import sklearn\n",
    "print(sklearn.__version__)\n",
    "assert version.parse(sklearn.__version__) >= version.parse(\"1.0.1\")\n",
    "\n",
    "# Common imports\n",
    "import numpy as np\n",
    "import pandas as pd\n",
    "import os\n",
    "\n",
    "# To plot pretty figures\n",
    "import matplotlib as mpl\n",
    "import matplotlib.pyplot as plt\n",
    "\n",
    "# import joblib\n",
    "from joblib import dump, load"
   ]
  },
  {
   "cell_type": "code",
   "execution_count": 181,
   "metadata": {},
   "outputs": [
    {
     "data": {
      "text/html": [
       "<div>\n",
       "<style scoped>\n",
       "    .dataframe tbody tr th:only-of-type {\n",
       "        vertical-align: middle;\n",
       "    }\n",
       "\n",
       "    .dataframe tbody tr th {\n",
       "        vertical-align: top;\n",
       "    }\n",
       "\n",
       "    .dataframe thead th {\n",
       "        text-align: right;\n",
       "    }\n",
       "</style>\n",
       "<table border=\"1\" class=\"dataframe\">\n",
       "  <thead>\n",
       "    <tr style=\"text-align: right;\">\n",
       "      <th></th>\n",
       "      <th>timestamp</th>\n",
       "      <th>kwh</th>\n",
       "    </tr>\n",
       "  </thead>\n",
       "  <tbody>\n",
       "    <tr>\n",
       "      <th>0</th>\n",
       "      <td>2023-03-11 16:00:10.160454+01</td>\n",
       "      <td>0.54</td>\n",
       "    </tr>\n",
       "    <tr>\n",
       "      <th>1</th>\n",
       "      <td>2023-03-11 17:00:10.217795+01</td>\n",
       "      <td>1.02</td>\n",
       "    </tr>\n",
       "    <tr>\n",
       "      <th>2</th>\n",
       "      <td>2023-03-11 18:00:10.284064+01</td>\n",
       "      <td>1.17</td>\n",
       "    </tr>\n",
       "    <tr>\n",
       "      <th>3</th>\n",
       "      <td>2023-03-11 19:00:10.224836+01</td>\n",
       "      <td>1.18</td>\n",
       "    </tr>\n",
       "    <tr>\n",
       "      <th>4</th>\n",
       "      <td>2023-03-11 20:00:10.201847+01</td>\n",
       "      <td>1.18</td>\n",
       "    </tr>\n",
       "  </tbody>\n",
       "</table>\n",
       "</div>"
      ],
      "text/plain": [
       "                       timestamp   kwh\n",
       "0  2023-03-11 16:00:10.160454+01  0.54\n",
       "1  2023-03-11 17:00:10.217795+01  1.02\n",
       "2  2023-03-11 18:00:10.284064+01  1.17\n",
       "3  2023-03-11 19:00:10.224836+01  1.18\n",
       "4  2023-03-11 20:00:10.201847+01  1.18"
      ]
     },
     "execution_count": 181,
     "metadata": {},
     "output_type": "execute_result"
    }
   ],
   "source": [
    "solar = pd.read_csv(\"data/solar.csv\")\n",
    "solar.head()"
   ]
  },
  {
   "cell_type": "code",
   "execution_count": 182,
   "metadata": {},
   "outputs": [
    {
     "data": {
      "text/html": [
       "<div>\n",
       "<style scoped>\n",
       "    .dataframe tbody tr th:only-of-type {\n",
       "        vertical-align: middle;\n",
       "    }\n",
       "\n",
       "    .dataframe tbody tr th {\n",
       "        vertical-align: top;\n",
       "    }\n",
       "\n",
       "    .dataframe thead th {\n",
       "        text-align: right;\n",
       "    }\n",
       "</style>\n",
       "<table border=\"1\" class=\"dataframe\">\n",
       "  <thead>\n",
       "    <tr style=\"text-align: right;\">\n",
       "      <th></th>\n",
       "      <th>datum</th>\n",
       "      <th>Opkomst</th>\n",
       "      <th>Op ware middag</th>\n",
       "      <th>Ondergang</th>\n",
       "    </tr>\n",
       "  </thead>\n",
       "  <tbody>\n",
       "    <tr>\n",
       "      <th>0</th>\n",
       "      <td>2023-01-01</td>\n",
       "      <td>08:45:00</td>\n",
       "      <td>12:46:00</td>\n",
       "      <td>16:47:00</td>\n",
       "    </tr>\n",
       "    <tr>\n",
       "      <th>1</th>\n",
       "      <td>2023-01-02</td>\n",
       "      <td>08:45:00</td>\n",
       "      <td>12:46:00</td>\n",
       "      <td>16:48:00</td>\n",
       "    </tr>\n",
       "    <tr>\n",
       "      <th>2</th>\n",
       "      <td>2023-01-03</td>\n",
       "      <td>08:45:00</td>\n",
       "      <td>12:47:00</td>\n",
       "      <td>16:49:00</td>\n",
       "    </tr>\n",
       "    <tr>\n",
       "      <th>3</th>\n",
       "      <td>2023-01-04</td>\n",
       "      <td>08:44:00</td>\n",
       "      <td>12:47:00</td>\n",
       "      <td>16:51:00</td>\n",
       "    </tr>\n",
       "    <tr>\n",
       "      <th>4</th>\n",
       "      <td>2023-01-05</td>\n",
       "      <td>08:44:00</td>\n",
       "      <td>12:48:00</td>\n",
       "      <td>16:52:00</td>\n",
       "    </tr>\n",
       "  </tbody>\n",
       "</table>\n",
       "</div>"
      ],
      "text/plain": [
       "       datum   Opkomst Op ware middag Ondergang\n",
       "0 2023-01-01  08:45:00       12:46:00  16:47:00\n",
       "1 2023-01-02  08:45:00       12:46:00  16:48:00\n",
       "2 2023-01-03  08:45:00       12:47:00  16:49:00\n",
       "3 2023-01-04  08:44:00       12:47:00  16:51:00\n",
       "4 2023-01-05  08:44:00       12:48:00  16:52:00"
      ]
     },
     "execution_count": 182,
     "metadata": {},
     "output_type": "execute_result"
    }
   ],
   "source": [
    "sun = pd.read_excel(\"data/sunrise-sunset.xlsx\")\n",
    "sun.head()"
   ]
  },
  {
   "cell_type": "code",
   "execution_count": 183,
   "metadata": {},
   "outputs": [
    {
     "data": {
      "text/html": [
       "<div>\n",
       "<style scoped>\n",
       "    .dataframe tbody tr th:only-of-type {\n",
       "        vertical-align: middle;\n",
       "    }\n",
       "\n",
       "    .dataframe tbody tr th {\n",
       "        vertical-align: top;\n",
       "    }\n",
       "\n",
       "    .dataframe thead th {\n",
       "        text-align: right;\n",
       "    }\n",
       "</style>\n",
       "<table border=\"1\" class=\"dataframe\">\n",
       "  <thead>\n",
       "    <tr style=\"text-align: right;\">\n",
       "      <th></th>\n",
       "      <th>FID</th>\n",
       "      <th>the_geom</th>\n",
       "      <th>code</th>\n",
       "      <th>timestamp</th>\n",
       "      <th>precip_quantity</th>\n",
       "      <th>precip_range</th>\n",
       "      <th>temp</th>\n",
       "      <th>temp_min</th>\n",
       "      <th>temp_max</th>\n",
       "      <th>temp_grass_min</th>\n",
       "      <th>...</th>\n",
       "      <th>wind_speed_unit</th>\n",
       "      <th>wind_direction</th>\n",
       "      <th>wind_peak_speed</th>\n",
       "      <th>humidity_relative</th>\n",
       "      <th>weather_current</th>\n",
       "      <th>pressure</th>\n",
       "      <th>pressure_station_level</th>\n",
       "      <th>sun_duration_24hours</th>\n",
       "      <th>short_wave_from_sky_24hours</th>\n",
       "      <th>cloudiness</th>\n",
       "    </tr>\n",
       "  </thead>\n",
       "  <tbody>\n",
       "    <tr>\n",
       "      <th>0</th>\n",
       "      <td>synop_data.6418.2023-03-01 09:00:00+00</td>\n",
       "      <td>POINT (51.347375 3.201846)</td>\n",
       "      <td>6418</td>\n",
       "      <td>2023-03-01T09:00:00</td>\n",
       "      <td>NaN</td>\n",
       "      <td>NaN</td>\n",
       "      <td>4.9</td>\n",
       "      <td>NaN</td>\n",
       "      <td>NaN</td>\n",
       "      <td>NaN</td>\n",
       "      <td>...</td>\n",
       "      <td>1</td>\n",
       "      <td>50.0</td>\n",
       "      <td>9.4</td>\n",
       "      <td>54.3</td>\n",
       "      <td>NaN</td>\n",
       "      <td>1029.7</td>\n",
       "      <td>1028.0</td>\n",
       "      <td>NaN</td>\n",
       "      <td>NaN</td>\n",
       "      <td>0.0</td>\n",
       "    </tr>\n",
       "    <tr>\n",
       "      <th>1</th>\n",
       "      <td>synop_data.6414.2023-03-01 09:00:00+00</td>\n",
       "      <td>POINT (50.90398 3.121692)</td>\n",
       "      <td>6414</td>\n",
       "      <td>2023-03-01T09:00:00</td>\n",
       "      <td>NaN</td>\n",
       "      <td>NaN</td>\n",
       "      <td>2.1</td>\n",
       "      <td>NaN</td>\n",
       "      <td>NaN</td>\n",
       "      <td>NaN</td>\n",
       "      <td>...</td>\n",
       "      <td>1</td>\n",
       "      <td>44.7</td>\n",
       "      <td>7.5</td>\n",
       "      <td>73.7</td>\n",
       "      <td>NaN</td>\n",
       "      <td>1029.3</td>\n",
       "      <td>1025.9</td>\n",
       "      <td>NaN</td>\n",
       "      <td>NaN</td>\n",
       "      <td>NaN</td>\n",
       "    </tr>\n",
       "    <tr>\n",
       "      <th>2</th>\n",
       "      <td>synop_data.6407.2023-03-01 09:00:00+00</td>\n",
       "      <td>POINT (51.200341 2.887306)</td>\n",
       "      <td>6407</td>\n",
       "      <td>2023-03-01T09:00:00</td>\n",
       "      <td>NaN</td>\n",
       "      <td>NaN</td>\n",
       "      <td>3.3</td>\n",
       "      <td>NaN</td>\n",
       "      <td>NaN</td>\n",
       "      <td>NaN</td>\n",
       "      <td>...</td>\n",
       "      <td>1</td>\n",
       "      <td>60.0</td>\n",
       "      <td>7.0</td>\n",
       "      <td>NaN</td>\n",
       "      <td>NaN</td>\n",
       "      <td>1029.6</td>\n",
       "      <td>1029.0</td>\n",
       "      <td>NaN</td>\n",
       "      <td>NaN</td>\n",
       "      <td>1.0</td>\n",
       "    </tr>\n",
       "    <tr>\n",
       "      <th>3</th>\n",
       "      <td>synop_data.6434.2023-03-01 09:00:00+00</td>\n",
       "      <td>POINT (50.980293 3.816003)</td>\n",
       "      <td>6434</td>\n",
       "      <td>2023-03-01T09:00:00</td>\n",
       "      <td>NaN</td>\n",
       "      <td>NaN</td>\n",
       "      <td>1.6</td>\n",
       "      <td>NaN</td>\n",
       "      <td>NaN</td>\n",
       "      <td>-10.0</td>\n",
       "      <td>...</td>\n",
       "      <td>1</td>\n",
       "      <td>71.6</td>\n",
       "      <td>5.9</td>\n",
       "      <td>70.9</td>\n",
       "      <td>NaN</td>\n",
       "      <td>1029.4</td>\n",
       "      <td>1027.3</td>\n",
       "      <td>NaN</td>\n",
       "      <td>NaN</td>\n",
       "      <td>NaN</td>\n",
       "    </tr>\n",
       "    <tr>\n",
       "      <th>4</th>\n",
       "      <td>synop_data.6434.2023-03-01 10:00:00+00</td>\n",
       "      <td>POINT (50.980293 3.816003)</td>\n",
       "      <td>6434</td>\n",
       "      <td>2023-03-01T10:00:00</td>\n",
       "      <td>NaN</td>\n",
       "      <td>NaN</td>\n",
       "      <td>3.0</td>\n",
       "      <td>NaN</td>\n",
       "      <td>NaN</td>\n",
       "      <td>NaN</td>\n",
       "      <td>...</td>\n",
       "      <td>1</td>\n",
       "      <td>56.0</td>\n",
       "      <td>7.6</td>\n",
       "      <td>60.8</td>\n",
       "      <td>NaN</td>\n",
       "      <td>1028.8</td>\n",
       "      <td>1026.7</td>\n",
       "      <td>NaN</td>\n",
       "      <td>NaN</td>\n",
       "      <td>NaN</td>\n",
       "    </tr>\n",
       "  </tbody>\n",
       "</table>\n",
       "<p>5 rows × 21 columns</p>\n",
       "</div>"
      ],
      "text/plain": [
       "                                      FID                    the_geom  code  \\\n",
       "0  synop_data.6418.2023-03-01 09:00:00+00  POINT (51.347375 3.201846)  6418   \n",
       "1  synop_data.6414.2023-03-01 09:00:00+00   POINT (50.90398 3.121692)  6414   \n",
       "2  synop_data.6407.2023-03-01 09:00:00+00  POINT (51.200341 2.887306)  6407   \n",
       "3  synop_data.6434.2023-03-01 09:00:00+00  POINT (50.980293 3.816003)  6434   \n",
       "4  synop_data.6434.2023-03-01 10:00:00+00  POINT (50.980293 3.816003)  6434   \n",
       "\n",
       "             timestamp  precip_quantity  precip_range  temp  temp_min  \\\n",
       "0  2023-03-01T09:00:00              NaN           NaN   4.9       NaN   \n",
       "1  2023-03-01T09:00:00              NaN           NaN   2.1       NaN   \n",
       "2  2023-03-01T09:00:00              NaN           NaN   3.3       NaN   \n",
       "3  2023-03-01T09:00:00              NaN           NaN   1.6       NaN   \n",
       "4  2023-03-01T10:00:00              NaN           NaN   3.0       NaN   \n",
       "\n",
       "   temp_max  temp_grass_min  ...  wind_speed_unit  wind_direction  \\\n",
       "0       NaN             NaN  ...                1            50.0   \n",
       "1       NaN             NaN  ...                1            44.7   \n",
       "2       NaN             NaN  ...                1            60.0   \n",
       "3       NaN           -10.0  ...                1            71.6   \n",
       "4       NaN             NaN  ...                1            56.0   \n",
       "\n",
       "   wind_peak_speed  humidity_relative  weather_current  pressure  \\\n",
       "0              9.4               54.3              NaN    1029.7   \n",
       "1              7.5               73.7              NaN    1029.3   \n",
       "2              7.0                NaN              NaN    1029.6   \n",
       "3              5.9               70.9              NaN    1029.4   \n",
       "4              7.6               60.8              NaN    1028.8   \n",
       "\n",
       "   pressure_station_level  sun_duration_24hours  short_wave_from_sky_24hours  \\\n",
       "0                  1028.0                   NaN                          NaN   \n",
       "1                  1025.9                   NaN                          NaN   \n",
       "2                  1029.0                   NaN                          NaN   \n",
       "3                  1027.3                   NaN                          NaN   \n",
       "4                  1026.7                   NaN                          NaN   \n",
       "\n",
       "   cloudiness  \n",
       "0         0.0  \n",
       "1         NaN  \n",
       "2         1.0  \n",
       "3         NaN  \n",
       "4         NaN  \n",
       "\n",
       "[5 rows x 21 columns]"
      ]
     },
     "execution_count": 183,
     "metadata": {},
     "output_type": "execute_result"
    }
   ],
   "source": [
    "weather = pd.read_csv(\"data/weather.csv\")\n",
    "weather.head()"
   ]
  },
  {
   "cell_type": "code",
   "execution_count": 184,
   "metadata": {},
   "outputs": [
    {
     "name": "stdout",
     "output_type": "stream",
     "text": [
      "<class 'pandas.core.frame.DataFrame'>\n",
      "RangeIndex: 39840 entries, 0 to 39839\n",
      "Data columns (total 21 columns):\n",
      " #   Column                       Non-Null Count  Dtype  \n",
      "---  ------                       --------------  -----  \n",
      " 0   FID                          39840 non-null  object \n",
      " 1   the_geom                     39840 non-null  object \n",
      " 2   code                         39840 non-null  int64  \n",
      " 3   timestamp                    39840 non-null  object \n",
      " 4   precip_quantity              6291 non-null   float64\n",
      " 5   precip_range                 6417 non-null   float64\n",
      " 6   temp                         39840 non-null  float64\n",
      " 7   temp_min                     1660 non-null   float64\n",
      " 8   temp_max                     1657 non-null   float64\n",
      " 9   temp_grass_min               1189 non-null   float64\n",
      " 10  wind_speed                   39827 non-null  float64\n",
      " 11  wind_speed_unit              39840 non-null  int64  \n",
      " 12  wind_direction               39414 non-null  float64\n",
      " 13  wind_peak_speed              39815 non-null  float64\n",
      " 14  humidity_relative            29880 non-null  float64\n",
      " 15  weather_current              2802 non-null   float64\n",
      " 16  pressure                     39828 non-null  float64\n",
      " 17  pressure_station_level       39840 non-null  float64\n",
      " 18  sun_duration_24hours         1245 non-null   float64\n",
      " 19  short_wave_from_sky_24hours  830 non-null    float64\n",
      " 20  cloudiness                   15455 non-null  float64\n",
      "dtypes: float64(16), int64(2), object(3)\n",
      "memory usage: 6.4+ MB\n"
     ]
    }
   ],
   "source": [
    "weather.info()"
   ]
  },
  {
   "cell_type": "code",
   "execution_count": 185,
   "metadata": {},
   "outputs": [
    {
     "name": "stdout",
     "output_type": "stream",
     "text": [
      "39840\n",
      "9960\n"
     ]
    },
    {
     "name": "stderr",
     "output_type": "stream",
     "text": [
      "C:\\Users\\jules\\AppData\\Local\\Temp\\ipykernel_25512\\2263670035.py:2: FutureWarning: The default value of numeric_only in DataFrameGroupBy.mean is deprecated. In a future version, numeric_only will default to False. Either specify numeric_only or select only columns which should be valid for the function.\n",
      "  weather = weather.groupby(\"timestamp\").mean().reset_index()\n"
     ]
    }
   ],
   "source": [
    "print(len(weather))\n",
    "weather = weather.groupby(\"timestamp\").mean().reset_index()\n",
    "print(len(weather))"
   ]
  },
  {
   "cell_type": "code",
   "execution_count": 186,
   "metadata": {},
   "outputs": [],
   "source": [
    "weather[\"timestamp\"] = pd.to_datetime(weather[\"timestamp\"], utc=True)\n",
    "solar[\"timestamp\"] = pd.to_datetime(solar[\"timestamp\"], utc=True)\n",
    "data = pd.merge_asof(solar, weather, on=\"timestamp\", direction=\"nearest\")"
   ]
  },
  {
   "cell_type": "code",
   "execution_count": 187,
   "metadata": {},
   "outputs": [
    {
     "data": {
      "text/plain": [
       "9705"
      ]
     },
     "execution_count": 187,
     "metadata": {},
     "output_type": "execute_result"
    }
   ],
   "source": [
    "len(data)"
   ]
  },
  {
   "cell_type": "code",
   "execution_count": 188,
   "metadata": {},
   "outputs": [
    {
     "name": "stdout",
     "output_type": "stream",
     "text": [
      "<class 'pandas.core.frame.DataFrame'>\n",
      "Int64Index: 9705 entries, 0 to 9704\n",
      "Data columns (total 6 columns):\n",
      " #   Column             Non-Null Count  Dtype              \n",
      "---  ------             --------------  -----              \n",
      " 0   timestamp          9705 non-null   datetime64[ns, UTC]\n",
      " 1   kwh                9705 non-null   float64            \n",
      " 2   temp               9705 non-null   float64            \n",
      " 3   humidity_relative  9705 non-null   float64            \n",
      " 4   pressure           9705 non-null   float64            \n",
      " 5   cloudiness         9705 non-null   float64            \n",
      "dtypes: datetime64[ns, UTC](1), float64(5)\n",
      "memory usage: 530.7 KB\n"
     ]
    }
   ],
   "source": [
    "# drop columns with more than 70% missing values\n",
    "data = data.dropna(thresh=0.3*len(weather), axis=1)\n",
    "# drop useless columns\n",
    "data.drop(columns=[\"code\", \"wind_speed_unit\", \"wind_direction\", \"pressure_station_level\", \"wind_peak_speed\", \"wind_speed\"], axis=1, inplace=True)\n",
    "data.info()"
   ]
  },
  {
   "cell_type": "code",
   "execution_count": 189,
   "metadata": {},
   "outputs": [
    {
     "data": {
      "text/html": [
       "<div>\n",
       "<style scoped>\n",
       "    .dataframe tbody tr th:only-of-type {\n",
       "        vertical-align: middle;\n",
       "    }\n",
       "\n",
       "    .dataframe tbody tr th {\n",
       "        vertical-align: top;\n",
       "    }\n",
       "\n",
       "    .dataframe thead th {\n",
       "        text-align: right;\n",
       "    }\n",
       "</style>\n",
       "<table border=\"1\" class=\"dataframe\">\n",
       "  <thead>\n",
       "    <tr style=\"text-align: right;\">\n",
       "      <th></th>\n",
       "      <th>kwh</th>\n",
       "      <th>temp</th>\n",
       "      <th>humidity_relative</th>\n",
       "      <th>pressure</th>\n",
       "      <th>cloudiness</th>\n",
       "      <th>date</th>\n",
       "      <th>hour</th>\n",
       "    </tr>\n",
       "  </thead>\n",
       "  <tbody>\n",
       "    <tr>\n",
       "      <th>0</th>\n",
       "      <td>0.54</td>\n",
       "      <td>6.85</td>\n",
       "      <td>54.833333</td>\n",
       "      <td>1012.025</td>\n",
       "      <td>6.0</td>\n",
       "      <td>2023-03-11</td>\n",
       "      <td>15</td>\n",
       "    </tr>\n",
       "    <tr>\n",
       "      <th>1</th>\n",
       "      <td>1.02</td>\n",
       "      <td>6.30</td>\n",
       "      <td>57.800000</td>\n",
       "      <td>1011.625</td>\n",
       "      <td>7.0</td>\n",
       "      <td>2023-03-11</td>\n",
       "      <td>16</td>\n",
       "    </tr>\n",
       "    <tr>\n",
       "      <th>2</th>\n",
       "      <td>1.17</td>\n",
       "      <td>5.95</td>\n",
       "      <td>60.366667</td>\n",
       "      <td>1011.500</td>\n",
       "      <td>7.0</td>\n",
       "      <td>2023-03-11</td>\n",
       "      <td>17</td>\n",
       "    </tr>\n",
       "    <tr>\n",
       "      <th>3</th>\n",
       "      <td>1.18</td>\n",
       "      <td>5.25</td>\n",
       "      <td>64.500000</td>\n",
       "      <td>1011.850</td>\n",
       "      <td>7.0</td>\n",
       "      <td>2023-03-11</td>\n",
       "      <td>18</td>\n",
       "    </tr>\n",
       "    <tr>\n",
       "      <th>4</th>\n",
       "      <td>1.18</td>\n",
       "      <td>4.85</td>\n",
       "      <td>68.633333</td>\n",
       "      <td>1011.650</td>\n",
       "      <td>7.0</td>\n",
       "      <td>2023-03-11</td>\n",
       "      <td>19</td>\n",
       "    </tr>\n",
       "  </tbody>\n",
       "</table>\n",
       "</div>"
      ],
      "text/plain": [
       "    kwh  temp  humidity_relative  pressure  cloudiness        date hour\n",
       "0  0.54  6.85          54.833333  1012.025         6.0  2023-03-11   15\n",
       "1  1.02  6.30          57.800000  1011.625         7.0  2023-03-11   16\n",
       "2  1.17  5.95          60.366667  1011.500         7.0  2023-03-11   17\n",
       "3  1.18  5.25          64.500000  1011.850         7.0  2023-03-11   18\n",
       "4  1.18  4.85          68.633333  1011.650         7.0  2023-03-11   19"
      ]
     },
     "execution_count": 189,
     "metadata": {},
     "output_type": "execute_result"
    }
   ],
   "source": [
    "# clean weather timestamp data\n",
    "data[\"timestamp\"] = data[\"timestamp\"].apply(lambda date: pd.to_datetime(date).strftime(\"%Y-%m-%d %H\"))\n",
    "# split timestamp into date and hour\n",
    "data[\"date\"] = data[\"timestamp\"].apply(lambda date: date.split(\" \")[0])\n",
    "data[\"hour\"] = data[\"timestamp\"].apply(lambda date: date.split(\" \")[1])\n",
    "data.drop(columns=[\"timestamp\"], inplace=True)\n",
    "data.head()"
   ]
  },
  {
   "cell_type": "code",
   "execution_count": 190,
   "metadata": {},
   "outputs": [
    {
     "data": {
      "image/png": "[encoded data removed]",
      "text/plain": [
       "<Figure size 864x432 with 1 Axes>"
      ]
     },
     "metadata": {
      "needs_background": "light"
     },
     "output_type": "display_data"
    }
   ],
   "source": [
    "# plot kwh\n",
    "plt.figure(figsize=(12, 6))\n",
    "plt.plot(range(len(data)), data[\"kwh\"])\n",
    "plt.xlabel(\"x\")\n",
    "plt.ylabel(\"kwh\")\n",
    "plt.title(\"Daily kwh\")\n",
    "plt.show()"
   ]
  },
  {
   "cell_type": "code",
   "execution_count": 191,
   "metadata": {},
   "outputs": [
    {
     "data": {
      "image/png": "[encoded data removed]",
      "text/plain": [
       "<Figure size 864x432 with 1 Axes>"
      ]
     },
     "metadata": {
      "needs_background": "light"
     },
     "output_type": "display_data"
    }
   ],
   "source": [
    "# plot kwh\n",
    "plt.figure(figsize=(12, 6))\n",
    "plt.plot(range(len(data)), data[\"kwh\"])\n",
    "plt.xlabel(\"x\")\n",
    "plt.ylabel(\"kwh\")\n",
    "plt.title(\"Daily kwh\")\n",
    "plt.show()"
   ]
  },
  {
   "cell_type": "code",
   "execution_count": 192,
   "metadata": {},
   "outputs": [
    {
     "data": {
      "text/html": [
       "<div>\n",
       "<style scoped>\n",
       "    .dataframe tbody tr th:only-of-type {\n",
       "        vertical-align: middle;\n",
       "    }\n",
       "\n",
       "    .dataframe tbody tr th {\n",
       "        vertical-align: top;\n",
       "    }\n",
       "\n",
       "    .dataframe thead th {\n",
       "        text-align: right;\n",
       "    }\n",
       "</style>\n",
       "<table border=\"1\" class=\"dataframe\">\n",
       "  <thead>\n",
       "    <tr style=\"text-align: right;\">\n",
       "      <th></th>\n",
       "      <th>kwh</th>\n",
       "      <th>temp</th>\n",
       "      <th>humidity_relative</th>\n",
       "      <th>pressure</th>\n",
       "      <th>cloudiness</th>\n",
       "      <th>date</th>\n",
       "      <th>hour</th>\n",
       "    </tr>\n",
       "  </thead>\n",
       "  <tbody>\n",
       "    <tr>\n",
       "      <th>0</th>\n",
       "      <td>0.54</td>\n",
       "      <td>6.85</td>\n",
       "      <td>54.833333</td>\n",
       "      <td>1012.025</td>\n",
       "      <td>6.0</td>\n",
       "      <td>2023-03-11</td>\n",
       "      <td>15</td>\n",
       "    </tr>\n",
       "    <tr>\n",
       "      <th>1</th>\n",
       "      <td>0.48</td>\n",
       "      <td>6.30</td>\n",
       "      <td>57.800000</td>\n",
       "      <td>1011.625</td>\n",
       "      <td>7.0</td>\n",
       "      <td>2023-03-11</td>\n",
       "      <td>16</td>\n",
       "    </tr>\n",
       "    <tr>\n",
       "      <th>2</th>\n",
       "      <td>0.15</td>\n",
       "      <td>5.95</td>\n",
       "      <td>60.366667</td>\n",
       "      <td>1011.500</td>\n",
       "      <td>7.0</td>\n",
       "      <td>2023-03-11</td>\n",
       "      <td>17</td>\n",
       "    </tr>\n",
       "    <tr>\n",
       "      <th>3</th>\n",
       "      <td>0.01</td>\n",
       "      <td>5.25</td>\n",
       "      <td>64.500000</td>\n",
       "      <td>1011.850</td>\n",
       "      <td>7.0</td>\n",
       "      <td>2023-03-11</td>\n",
       "      <td>18</td>\n",
       "    </tr>\n",
       "    <tr>\n",
       "      <th>4</th>\n",
       "      <td>0.00</td>\n",
       "      <td>4.85</td>\n",
       "      <td>68.633333</td>\n",
       "      <td>1011.650</td>\n",
       "      <td>7.0</td>\n",
       "      <td>2023-03-11</td>\n",
       "      <td>19</td>\n",
       "    </tr>\n",
       "  </tbody>\n",
       "</table>\n",
       "</div>"
      ],
      "text/plain": [
       "    kwh  temp  humidity_relative  pressure  cloudiness        date hour\n",
       "0  0.54  6.85          54.833333  1012.025         6.0  2023-03-11   15\n",
       "1  0.48  6.30          57.800000  1011.625         7.0  2023-03-11   16\n",
       "2  0.15  5.95          60.366667  1011.500         7.0  2023-03-11   17\n",
       "3  0.01  5.25          64.500000  1011.850         7.0  2023-03-11   18\n",
       "4  0.00  4.85          68.633333  1011.650         7.0  2023-03-11   19"
      ]
     },
     "execution_count": 192,
     "metadata": {},
     "output_type": "execute_result"
    }
   ],
   "source": [
    "# kwh is cummulative\n",
    "# we need to calculate the daily kwh\n",
    "data[\"kwh\"] = data[\"kwh\"] - data[\"kwh\"].shift(1, fill_value=0)\n",
    "data.head()"
   ]
  },
  {
   "cell_type": "code",
   "execution_count": 193,
   "metadata": {},
   "outputs": [
    {
     "data": {
      "image/png": "[encoded data removed]",
      "text/plain": [
       "<Figure size 864x432 with 1 Axes>"
      ]
     },
     "metadata": {
      "needs_background": "light"
     },
     "output_type": "display_data"
    }
   ],
   "source": [
    "# plot kwh\n",
    "plt.figure(figsize=(12, 6))\n",
    "plt.plot(range(len(data)), data[\"kwh\"])\n",
    "plt.xlabel(\"x\")\n",
    "plt.ylabel(\"kwh\")\n",
    "plt.title(\"Daily kwh\")\n",
    "plt.show()"
   ]
  },
  {
   "cell_type": "code",
   "execution_count": 194,
   "metadata": {},
   "outputs": [
    {
     "name": "stdout",
     "output_type": "stream",
     "text": [
      "0.24909621844410093 17.642920080149064\n"
     ]
    }
   ],
   "source": [
    "mean = data[\"kwh\"].mean()\n",
    "std = data[\"kwh\"].std()\n",
    "print(mean, std)"
   ]
  },
  {
   "cell_type": "code",
   "execution_count": 195,
   "metadata": {},
   "outputs": [
    {
     "name": "stdout",
     "output_type": "stream",
     "text": [
      "9705\n",
      "9702\n"
     ]
    },
    {
     "data": {
      "text/html": [
       "<div>\n",
       "<style scoped>\n",
       "    .dataframe tbody tr th:only-of-type {\n",
       "        vertical-align: middle;\n",
       "    }\n",
       "\n",
       "    .dataframe tbody tr th {\n",
       "        vertical-align: top;\n",
       "    }\n",
       "\n",
       "    .dataframe thead th {\n",
       "        text-align: right;\n",
       "    }\n",
       "</style>\n",
       "<table border=\"1\" class=\"dataframe\">\n",
       "  <thead>\n",
       "    <tr style=\"text-align: right;\">\n",
       "      <th></th>\n",
       "      <th>kwh</th>\n",
       "      <th>temp</th>\n",
       "      <th>humidity_relative</th>\n",
       "      <th>pressure</th>\n",
       "      <th>cloudiness</th>\n",
       "    </tr>\n",
       "  </thead>\n",
       "  <tbody>\n",
       "    <tr>\n",
       "      <th>count</th>\n",
       "      <td>9702.000000</td>\n",
       "      <td>9702.000000</td>\n",
       "      <td>9702.000000</td>\n",
       "      <td>9702.000000</td>\n",
       "      <td>9702.000000</td>\n",
       "    </tr>\n",
       "    <tr>\n",
       "      <th>mean</th>\n",
       "      <td>0.236701</td>\n",
       "      <td>12.022503</td>\n",
       "      <td>81.410386</td>\n",
       "      <td>1013.042862</td>\n",
       "      <td>5.449907</td>\n",
       "    </tr>\n",
       "    <tr>\n",
       "      <th>std</th>\n",
       "      <td>0.445524</td>\n",
       "      <td>5.664548</td>\n",
       "      <td>12.729167</td>\n",
       "      <td>11.859938</td>\n",
       "      <td>2.404182</td>\n",
       "    </tr>\n",
       "    <tr>\n",
       "      <th>min</th>\n",
       "      <td>0.000000</td>\n",
       "      <td>-4.650000</td>\n",
       "      <td>31.366667</td>\n",
       "      <td>967.800000</td>\n",
       "      <td>0.000000</td>\n",
       "    </tr>\n",
       "    <tr>\n",
       "      <th>25%</th>\n",
       "      <td>0.000000</td>\n",
       "      <td>8.350000</td>\n",
       "      <td>73.833333</td>\n",
       "      <td>1006.725000</td>\n",
       "      <td>3.500000</td>\n",
       "    </tr>\n",
       "    <tr>\n",
       "      <th>50%</th>\n",
       "      <td>0.000000</td>\n",
       "      <td>11.425000</td>\n",
       "      <td>84.716667</td>\n",
       "      <td>1014.900000</td>\n",
       "      <td>6.500000</td>\n",
       "    </tr>\n",
       "    <tr>\n",
       "      <th>75%</th>\n",
       "      <td>0.229925</td>\n",
       "      <td>16.200000</td>\n",
       "      <td>91.700000</td>\n",
       "      <td>1021.368750</td>\n",
       "      <td>7.000000</td>\n",
       "    </tr>\n",
       "    <tr>\n",
       "      <th>max</th>\n",
       "      <td>2.098000</td>\n",
       "      <td>30.975000</td>\n",
       "      <td>99.033333</td>\n",
       "      <td>1041.275000</td>\n",
       "      <td>8.000000</td>\n",
       "    </tr>\n",
       "  </tbody>\n",
       "</table>\n",
       "</div>"
      ],
      "text/plain": [
       "               kwh         temp  humidity_relative     pressure   cloudiness\n",
       "count  9702.000000  9702.000000        9702.000000  9702.000000  9702.000000\n",
       "mean      0.236701    12.022503          81.410386  1013.042862     5.449907\n",
       "std       0.445524     5.664548          12.729167    11.859938     2.404182\n",
       "min       0.000000    -4.650000          31.366667   967.800000     0.000000\n",
       "25%       0.000000     8.350000          73.833333  1006.725000     3.500000\n",
       "50%       0.000000    11.425000          84.716667  1014.900000     6.500000\n",
       "75%       0.229925    16.200000          91.700000  1021.368750     7.000000\n",
       "max       2.098000    30.975000          99.033333  1041.275000     8.000000"
      ]
     },
     "execution_count": 195,
     "metadata": {},
     "output_type": "execute_result"
    }
   ],
   "source": [
    "print(len(data))\n",
    "# remove outliers\n",
    "data = data[abs(data[\"kwh\"] - mean) < std]\n",
    "print(len(data))\n",
    "data.describe()"
   ]
  },
  {
   "cell_type": "code",
   "execution_count": 196,
   "metadata": {},
   "outputs": [
    {
     "data": {
      "text/html": [
       "<div>\n",
       "<style scoped>\n",
       "    .dataframe tbody tr th:only-of-type {\n",
       "        vertical-align: middle;\n",
       "    }\n",
       "\n",
       "    .dataframe tbody tr th {\n",
       "        vertical-align: top;\n",
       "    }\n",
       "\n",
       "    .dataframe thead th {\n",
       "        text-align: right;\n",
       "    }\n",
       "</style>\n",
       "<table border=\"1\" class=\"dataframe\">\n",
       "  <thead>\n",
       "    <tr style=\"text-align: right;\">\n",
       "      <th></th>\n",
       "      <th>date</th>\n",
       "      <th>sunrise</th>\n",
       "      <th>sun_noon</th>\n",
       "      <th>sunset</th>\n",
       "    </tr>\n",
       "  </thead>\n",
       "  <tbody>\n",
       "    <tr>\n",
       "      <th>0</th>\n",
       "      <td>2023-01-01</td>\n",
       "      <td>08:45:00</td>\n",
       "      <td>12:46:00</td>\n",
       "      <td>16:47:00</td>\n",
       "    </tr>\n",
       "    <tr>\n",
       "      <th>1</th>\n",
       "      <td>2023-01-02</td>\n",
       "      <td>08:45:00</td>\n",
       "      <td>12:46:00</td>\n",
       "      <td>16:48:00</td>\n",
       "    </tr>\n",
       "    <tr>\n",
       "      <th>2</th>\n",
       "      <td>2023-01-03</td>\n",
       "      <td>08:45:00</td>\n",
       "      <td>12:47:00</td>\n",
       "      <td>16:49:00</td>\n",
       "    </tr>\n",
       "    <tr>\n",
       "      <th>3</th>\n",
       "      <td>2023-01-04</td>\n",
       "      <td>08:44:00</td>\n",
       "      <td>12:47:00</td>\n",
       "      <td>16:51:00</td>\n",
       "    </tr>\n",
       "    <tr>\n",
       "      <th>4</th>\n",
       "      <td>2023-01-05</td>\n",
       "      <td>08:44:00</td>\n",
       "      <td>12:48:00</td>\n",
       "      <td>16:52:00</td>\n",
       "    </tr>\n",
       "  </tbody>\n",
       "</table>\n",
       "</div>"
      ],
      "text/plain": [
       "         date   sunrise  sun_noon    sunset\n",
       "0  2023-01-01  08:45:00  12:46:00  16:47:00\n",
       "1  2023-01-02  08:45:00  12:46:00  16:48:00\n",
       "2  2023-01-03  08:45:00  12:47:00  16:49:00\n",
       "3  2023-01-04  08:44:00  12:47:00  16:51:00\n",
       "4  2023-01-05  08:44:00  12:48:00  16:52:00"
      ]
     },
     "execution_count": 196,
     "metadata": {},
     "output_type": "execute_result"
    }
   ],
   "source": [
    "sun.rename(columns={\"datum\": \"date\", \"Opkomst\": \"sunrise\", \"Op ware middag\": \"sun_noon\", \"Ondergang\": \"sunset\"}, inplace=True)\n",
    "# make date column a string\n",
    "sun[\"date\"] = sun[\"date\"].apply(lambda date: date.strftime(\"%Y-%m-%d\"))\n",
    "sun.head()"
   ]
  },
  {
   "cell_type": "code",
   "execution_count": 197,
   "metadata": {},
   "outputs": [
    {
     "data": {
      "text/html": [
       "<div>\n",
       "<style scoped>\n",
       "    .dataframe tbody tr th:only-of-type {\n",
       "        vertical-align: middle;\n",
       "    }\n",
       "\n",
       "    .dataframe tbody tr th {\n",
       "        vertical-align: top;\n",
       "    }\n",
       "\n",
       "    .dataframe thead th {\n",
       "        text-align: right;\n",
       "    }\n",
       "</style>\n",
       "<table border=\"1\" class=\"dataframe\">\n",
       "  <thead>\n",
       "    <tr style=\"text-align: right;\">\n",
       "      <th></th>\n",
       "      <th>date</th>\n",
       "      <th>sunrise</th>\n",
       "      <th>sun_noon</th>\n",
       "      <th>sunset</th>\n",
       "    </tr>\n",
       "  </thead>\n",
       "  <tbody>\n",
       "    <tr>\n",
       "      <th>0</th>\n",
       "      <td>2023-01-01</td>\n",
       "      <td>196</td>\n",
       "      <td>20</td>\n",
       "      <td>10</td>\n",
       "    </tr>\n",
       "    <tr>\n",
       "      <th>1</th>\n",
       "      <td>2023-01-02</td>\n",
       "      <td>196</td>\n",
       "      <td>20</td>\n",
       "      <td>11</td>\n",
       "    </tr>\n",
       "    <tr>\n",
       "      <th>2</th>\n",
       "      <td>2023-01-03</td>\n",
       "      <td>196</td>\n",
       "      <td>21</td>\n",
       "      <td>12</td>\n",
       "    </tr>\n",
       "    <tr>\n",
       "      <th>3</th>\n",
       "      <td>2023-01-04</td>\n",
       "      <td>195</td>\n",
       "      <td>21</td>\n",
       "      <td>14</td>\n",
       "    </tr>\n",
       "    <tr>\n",
       "      <th>4</th>\n",
       "      <td>2023-01-05</td>\n",
       "      <td>195</td>\n",
       "      <td>22</td>\n",
       "      <td>15</td>\n",
       "    </tr>\n",
       "  </tbody>\n",
       "</table>\n",
       "</div>"
      ],
      "text/plain": [
       "         date  sunrise  sun_noon  sunset\n",
       "0  2023-01-01      196        20      10\n",
       "1  2023-01-02      196        20      11\n",
       "2  2023-01-03      196        21      12\n",
       "3  2023-01-04      195        21      14\n",
       "4  2023-01-05      195        22      15"
      ]
     },
     "execution_count": 197,
     "metadata": {},
     "output_type": "execute_result"
    }
   ],
   "source": [
    "# change timestamps to difference in minutes from minimum timestamp\n",
    "sun[\"sunrise\"] = sun[\"sunrise\"].apply(lambda time: time.hour * 60 + time.minute)\n",
    "sunrise_min = sun[\"sunrise\"].min()\n",
    "sun[\"sunrise\"] = sun[\"sunrise\"] - sunrise_min\n",
    "\n",
    "sun[\"sun_noon\"] = sun[\"sun_noon\"].apply(lambda time: time.hour * 60 + time.minute)\n",
    "sun_noon_min = sun[\"sun_noon\"].min()\n",
    "sun[\"sun_noon\"] = sun[\"sun_noon\"] - sun_noon_min\n",
    "\n",
    "sun[\"sunset\"] = sun[\"sunset\"].apply(lambda time: time.hour * 60 + time.minute)\n",
    "sunset_min = sun[\"sunset\"].min()\n",
    "sun[\"sunset\"] = sun[\"sunset\"] - sunset_min\n",
    "sun.head()"
   ]
  },
  {
   "cell_type": "code",
   "execution_count": 198,
   "metadata": {},
   "outputs": [
    {
     "name": "stdout",
     "output_type": "stream",
     "text": [
      "<class 'pandas.core.frame.DataFrame'>\n",
      "RangeIndex: 731 entries, 0 to 730\n",
      "Data columns (total 4 columns):\n",
      " #   Column    Non-Null Count  Dtype \n",
      "---  ------    --------------  ----- \n",
      " 0   date      731 non-null    object\n",
      " 1   sunrise   731 non-null    int64 \n",
      " 2   sun_noon  731 non-null    int64 \n",
      " 3   sunset    731 non-null    int64 \n",
      "dtypes: int64(3), object(1)\n",
      "memory usage: 23.0+ KB\n"
     ]
    }
   ],
   "source": [
    "sun.info()"
   ]
  },
  {
   "cell_type": "code",
   "execution_count": 199,
   "metadata": {},
   "outputs": [
    {
     "name": "stdout",
     "output_type": "stream",
     "text": [
      "(9702, 10)\n"
     ]
    }
   ],
   "source": [
    "# merge all data\n",
    "data = data.merge(sun, on=[\"date\"], how=\"inner\")\n",
    "print(data.shape)"
   ]
  },
  {
   "cell_type": "code",
   "execution_count": 200,
   "metadata": {},
   "outputs": [],
   "source": [
    "# convert date to datetime\n",
    "data[\"date\"] = data[\"date\"].astype(\"datetime64\")\n",
    "# add month and day columns\n",
    "data[\"month\"] = data[\"date\"].dt.month\n",
    "data[\"day\"] = data[\"date\"].dt.dayofweek\n",
    "# drop date column\n",
    "data.drop(\"date\", axis=1, inplace=True)\n",
    "# convert hour to int\n",
    "data[\"hour\"] = data[\"hour\"].astype(\"int\")"
   ]
  },
  {
   "cell_type": "code",
   "execution_count": 201,
   "metadata": {},
   "outputs": [
    {
     "data": {
      "text/plain": [
       "<Axes: >"
      ]
     },
     "execution_count": 201,
     "metadata": {},
     "output_type": "execute_result"
    },
    {
     "data": {
      "image/png": "[encoded data removed]",
      "text/plain": [
       "<Figure size 864x216 with 3 Axes>"
      ]
     },
     "metadata": {
      "needs_background": "light"
     },
     "output_type": "display_data"
    }
   ],
   "source": [
    "fig, axs = plt.subplots(1, 3, figsize=(12, 3), sharey=True)\n",
    "data[\"kwh\"].hist(bins=50, ax=axs[0])\n",
    "data[\"kwh\"].apply(np.log1p).hist(bins=50, ax=axs[1])\n",
    "data[\"kwh\"].apply(np.sqrt).hist(bins=50, ax=axs[2])\n"
   ]
  },
  {
   "cell_type": "code",
   "execution_count": 202,
   "metadata": {},
   "outputs": [],
   "source": [
    "X = data.drop(\"kwh\", axis=1)\n",
    "y = data[\"kwh\"]"
   ]
  },
  {
   "cell_type": "code",
   "execution_count": 203,
   "metadata": {},
   "outputs": [],
   "source": [
    "from sklearn.model_selection import train_test_split\n",
    "X_train, X_test, y_train, y_test = train_test_split(X, y, test_size=0.2, random_state=42)"
   ]
  },
  {
   "cell_type": "code",
   "execution_count": 204,
   "metadata": {},
   "outputs": [
    {
     "data": {
      "text/plain": [
       "kwh                  1.00\n",
       "temp                 0.39\n",
       "sunset               0.26\n",
       "sun_noon             0.23\n",
       "pressure             0.17\n",
       "hour                 0.07\n",
       "day                 -0.01\n",
       "month               -0.05\n",
       "sunrise             -0.25\n",
       "cloudiness          -0.27\n",
       "humidity_relative   -0.64\n",
       "Name: kwh, dtype: float64"
      ]
     },
     "execution_count": 204,
     "metadata": {},
     "output_type": "execute_result"
    }
   ],
   "source": [
    "cm = data.corr()\n",
    "cm[\"kwh\"].sort_values(ascending=False).round(2)"
   ]
  },
  {
   "cell_type": "code",
   "execution_count": 205,
   "metadata": {},
   "outputs": [
    {
     "name": "stdout",
     "output_type": "stream",
     "text": [
      "<class 'pandas.core.frame.DataFrame'>\n",
      "Int64Index: 7761 entries, 2145 to 7270\n",
      "Data columns (total 10 columns):\n",
      " #   Column             Non-Null Count  Dtype  \n",
      "---  ------             --------------  -----  \n",
      " 0   temp               7761 non-null   float64\n",
      " 1   humidity_relative  7761 non-null   float64\n",
      " 2   pressure           7761 non-null   float64\n",
      " 3   cloudiness         7761 non-null   float64\n",
      " 4   hour               7761 non-null   int32  \n",
      " 5   sunrise            7761 non-null   int64  \n",
      " 6   sun_noon           7761 non-null   int64  \n",
      " 7   sunset             7761 non-null   int64  \n",
      " 8   month              7761 non-null   int64  \n",
      " 9   day                7761 non-null   int64  \n",
      "dtypes: float64(4), int32(1), int64(5)\n",
      "memory usage: 636.6 KB\n"
     ]
    }
   ],
   "source": [
    "X_train.info()"
   ]
  },
  {
   "cell_type": "code",
   "execution_count": 206,
   "metadata": {},
   "outputs": [],
   "source": [
    "# make hour, month, day categorical\n",
    "X_train[\"hour\"] = X_train[\"hour\"].astype(\"category\")\n",
    "X_train[\"month\"] = X_train[\"month\"].astype(\"category\")\n",
    "X_train[\"day\"] = X_train[\"day\"].astype(\"category\")\n",
    "X_train[\"cloudiness\"] = X_train[\"cloudiness\"].astype(\"category\")"
   ]
  },
  {
   "cell_type": "code",
   "execution_count": 207,
   "metadata": {},
   "outputs": [
    {
     "data": {
      "text/plain": [
       "Index(['temp', 'humidity_relative', 'pressure', 'sunrise', 'sun_noon',\n",
       "       'sunset'],\n",
       "      dtype='object')"
      ]
     },
     "execution_count": 207,
     "metadata": {},
     "output_type": "execute_result"
    }
   ],
   "source": [
    "num_attribs = X_train.select_dtypes(include=np.number).columns\n",
    "num_attribs"
   ]
  },
  {
   "cell_type": "code",
   "execution_count": 208,
   "metadata": {},
   "outputs": [
    {
     "data": {
      "text/plain": [
       "Index(['cloudiness', 'hour', 'month', 'day'], dtype='object')"
      ]
     },
     "execution_count": 208,
     "metadata": {},
     "output_type": "execute_result"
    }
   ],
   "source": [
    "cat_attribs = X_train.select_dtypes(include=\"category\").columns\n",
    "cat_attribs"
   ]
  },
  {
   "cell_type": "code",
   "execution_count": 209,
   "metadata": {},
   "outputs": [],
   "source": [
    "from sklearn.compose import ColumnTransformer\n",
    "from sklearn.preprocessing import OneHotEncoder\n",
    "from sklearn.pipeline import Pipeline\n",
    "from sklearn.impute import SimpleImputer\n",
    "from sklearn.preprocessing import StandardScaler\n",
    "from sklearn.preprocessing import FunctionTransformer\n",
    "\n",
    "num_pipeline = Pipeline([\n",
    "    (\"impute\", SimpleImputer(strategy=\"median\")),\n",
    "    (\"standardize\", StandardScaler())\n",
    "])\n",
    "\n",
    "# log_pipeline = Pipeline([\n",
    "#     (\"impute\", SimpleImputer(strategy=\"median\")),\n",
    "#     (\"log\", FunctionTransformer(np.log, inverse_func=np.exp)),\n",
    "#     (\"standardize\", StandardScaler())\n",
    "# ])\n",
    "\n",
    "cat_pipline = Pipeline([\n",
    "    (\"impute\", SimpleImputer(strategy=\"most_frequent\")), \n",
    "    (\"one_hot\", OneHotEncoder(handle_unknown=\"ignore\"))\n",
    "])\n",
    "\n",
    "preprocessing = ColumnTransformer([\n",
    "    (\"num\", num_pipeline, num_attribs),\n",
    "    (\"cat\", cat_pipline, cat_attribs)\n",
    "])"
   ]
  },
  {
   "cell_type": "code",
   "execution_count": 210,
   "metadata": {},
   "outputs": [
    {
     "data": {
      "text/html": [
       "<style>#sk-container-id-6 {\n",
       "  /* Definition of color scheme common for light and dark mode */\n",
       "  --sklearn-color-text: black;\n",
       "  --sklearn-color-line: gray;\n",
       "  /* Definition of color scheme for unfitted estimators */\n",
       "  --sklearn-color-unfitted-level-0: #fff5e6;\n",
       "  --sklearn-color-unfitted-level-1: #f6e4d2;\n",
       "  --sklearn-color-unfitted-level-2: #ffe0b3;\n",
       "  --sklearn-color-unfitted-level-3: chocolate;\n",
       "  /* Definition of color scheme for fitted estimators */\n",
       "  --sklearn-color-fitted-level-0: #f0f8ff;\n",
       "  --sklearn-color-fitted-level-1: #d4ebff;\n",
       "  --sklearn-color-fitted-level-2: #b3dbfd;\n",
       "  --sklearn-color-fitted-level-3: cornflowerblue;\n",
       "\n",
       "  /* Specific color for light theme */\n",
       "  --sklearn-color-text-on-default-background: var(--sg-text-color, var(--theme-code-foreground, var(--jp-content-font-color1, black)));\n",
       "  --sklearn-color-background: var(--sg-background-color, var(--theme-background, var(--jp-layout-color0, white)));\n",
       "  --sklearn-color-border-box: var(--sg-text-color, var(--theme-code-foreground, var(--jp-content-font-color1, black)));\n",
       "  --sklearn-color-icon: #696969;\n",
       "\n",
       "  @media (prefers-color-scheme: dark) {\n",
       "    /* Redefinition of color scheme for dark theme */\n",
       "    --sklearn-color-text-on-default-background: var(--sg-text-color, var(--theme-code-foreground, var(--jp-content-font-color1, white)));\n",
       "    --sklearn-color-background: var(--sg-background-color, var(--theme-background, var(--jp-layout-color0, #111)));\n",
       "    --sklearn-color-border-box: var(--sg-text-color, var(--theme-code-foreground, var(--jp-content-font-color1, white)));\n",
       "    --sklearn-color-icon: #878787;\n",
       "  }\n",
       "}\n",
       "\n",
       "#sk-container-id-6 {\n",
       "  color: var(--sklearn-color-text);\n",
       "}\n",
       "\n",
       "#sk-container-id-6 pre {\n",
       "  padding: 0;\n",
       "}\n",
       "\n",
       "#sk-container-id-6 input.sk-hidden--visually {\n",
       "  border: 0;\n",
       "  clip: rect(1px 1px 1px 1px);\n",
       "  clip: rect(1px, 1px, 1px, 1px);\n",
       "  height: 1px;\n",
       "  margin: -1px;\n",
       "  overflow: hidden;\n",
       "  padding: 0;\n",
       "  position: absolute;\n",
       "  width: 1px;\n",
       "}\n",
       "\n",
       "#sk-container-id-6 div.sk-dashed-wrapped {\n",
       "  border: 1px dashed var(--sklearn-color-line);\n",
       "  margin: 0 0.4em 0.5em 0.4em;\n",
       "  box-sizing: border-box;\n",
       "  padding-bottom: 0.4em;\n",
       "  background-color: var(--sklearn-color-background);\n",
       "}\n",
       "\n",
       "#sk-container-id-6 div.sk-container {\n",
       "  /* jupyter's `normalize.less` sets `[hidden] { display: none; }`\n",
       "     but bootstrap.min.css set `[hidden] { display: none !important; }`\n",
       "     so we also need the `!important` here to be able to override the\n",
       "     default hidden behavior on the sphinx rendered scikit-learn.org.\n",
       "     See: https://github.com/scikit-learn/scikit-learn/issues/21755 */\n",
       "  display: inline-block !important;\n",
       "  position: relative;\n",
       "}\n",
       "\n",
       "#sk-container-id-6 div.sk-text-repr-fallback {\n",
       "  display: none;\n",
       "}\n",
       "\n",
       "div.sk-parallel-item,\n",
       "div.sk-serial,\n",
       "div.sk-item {\n",
       "  /* draw centered vertical line to link estimators */\n",
       "  background-image: linear-gradient(var(--sklearn-color-text-on-default-background), var(--sklearn-color-text-on-default-background));\n",
       "  background-size: 2px 100%;\n",
       "  background-repeat: no-repeat;\n",
       "  background-position: center center;\n",
       "}\n",
       "\n",
       "/* Parallel-specific style estimator block */\n",
       "\n",
       "#sk-container-id-6 div.sk-parallel-item::after {\n",
       "  content: \"\";\n",
       "  width: 100%;\n",
       "  border-bottom: 2px solid var(--sklearn-color-text-on-default-background);\n",
       "  flex-grow: 1;\n",
       "}\n",
       "\n",
       "#sk-container-id-6 div.sk-parallel {\n",
       "  display: flex;\n",
       "  align-items: stretch;\n",
       "  justify-content: center;\n",
       "  background-color: var(--sklearn-color-background);\n",
       "  position: relative;\n",
       "}\n",
       "\n",
       "#sk-container-id-6 div.sk-parallel-item {\n",
       "  display: flex;\n",
       "  flex-direction: column;\n",
       "}\n",
       "\n",
       "#sk-container-id-6 div.sk-parallel-item:first-child::after {\n",
       "  align-self: flex-end;\n",
       "  width: 50%;\n",
       "}\n",
       "\n",
       "#sk-container-id-6 div.sk-parallel-item:last-child::after {\n",
       "  align-self: flex-start;\n",
       "  width: 50%;\n",
       "}\n",
       "\n",
       "#sk-container-id-6 div.sk-parallel-item:only-child::after {\n",
       "  width: 0;\n",
       "}\n",
       "\n",
       "/* Serial-specific style estimator block */\n",
       "\n",
       "#sk-container-id-6 div.sk-serial {\n",
       "  display: flex;\n",
       "  flex-direction: column;\n",
       "  align-items: center;\n",
       "  background-color: var(--sklearn-color-background);\n",
       "  padding-right: 1em;\n",
       "  padding-left: 1em;\n",
       "}\n",
       "\n",
       "\n",
       "/* Toggleable style: style used for estimator/Pipeline/ColumnTransformer box that is\n",
       "clickable and can be expanded/collapsed.\n",
       "- Pipeline and ColumnTransformer use this feature and define the default style\n",
       "- Estimators will overwrite some part of the style using the `sk-estimator` class\n",
       "*/\n",
       "\n",
       "/* Pipeline and ColumnTransformer style (default) */\n",
       "\n",
       "#sk-container-id-6 div.sk-toggleable {\n",
       "  /* Default theme specific background. It is overwritten whether we have a\n",
       "  specific estimator or a Pipeline/ColumnTransformer */\n",
       "  background-color: var(--sklearn-color-background);\n",
       "}\n",
       "\n",
       "/* Toggleable label */\n",
       "#sk-container-id-6 label.sk-toggleable__label {\n",
       "  cursor: pointer;\n",
       "  display: block;\n",
       "  width: 100%;\n",
       "  margin-bottom: 0;\n",
       "  padding: 0.5em;\n",
       "  box-sizing: border-box;\n",
       "  text-align: center;\n",
       "}\n",
       "\n",
       "#sk-container-id-6 label.sk-toggleable__label-arrow:before {\n",
       "  /* Arrow on the left of the label */\n",
       "  content: \"▸\";\n",
       "  float: left;\n",
       "  margin-right: 0.25em;\n",
       "  color: var(--sklearn-color-icon);\n",
       "}\n",
       "\n",
       "#sk-container-id-6 label.sk-toggleable__label-arrow:hover:before {\n",
       "  color: var(--sklearn-color-text);\n",
       "}\n",
       "\n",
       "/* Toggleable content - dropdown */\n",
       "\n",
       "#sk-container-id-6 div.sk-toggleable__content {\n",
       "  max-height: 0;\n",
       "  max-width: 0;\n",
       "  overflow: hidden;\n",
       "  text-align: left;\n",
       "  /* unfitted */\n",
       "  background-color: var(--sklearn-color-unfitted-level-0);\n",
       "}\n",
       "\n",
       "#sk-container-id-6 div.sk-toggleable__content.fitted {\n",
       "  /* fitted */\n",
       "  background-color: var(--sklearn-color-fitted-level-0);\n",
       "}\n",
       "\n",
       "#sk-container-id-6 div.sk-toggleable__content pre {\n",
       "  margin: 0.2em;\n",
       "  border-radius: 0.25em;\n",
       "  color: var(--sklearn-color-text);\n",
       "  /* unfitted */\n",
       "  background-color: var(--sklearn-color-unfitted-level-0);\n",
       "}\n",
       "\n",
       "#sk-container-id-6 div.sk-toggleable__content.fitted pre {\n",
       "  /* unfitted */\n",
       "  background-color: var(--sklearn-color-fitted-level-0);\n",
       "}\n",
       "\n",
       "#sk-container-id-6 input.sk-toggleable__control:checked~div.sk-toggleable__content {\n",
       "  /* Expand drop-down */\n",
       "  max-height: 200px;\n",
       "  max-width: 100%;\n",
       "  overflow: auto;\n",
       "}\n",
       "\n",
       "#sk-container-id-6 input.sk-toggleable__control:checked~label.sk-toggleable__label-arrow:before {\n",
       "  content: \"▾\";\n",
       "}\n",
       "\n",
       "/* Pipeline/ColumnTransformer-specific style */\n",
       "\n",
       "#sk-container-id-6 div.sk-label input.sk-toggleable__control:checked~label.sk-toggleable__label {\n",
       "  color: var(--sklearn-color-text);\n",
       "  background-color: var(--sklearn-color-unfitted-level-2);\n",
       "}\n",
       "\n",
       "#sk-container-id-6 div.sk-label.fitted input.sk-toggleable__control:checked~label.sk-toggleable__label {\n",
       "  background-color: var(--sklearn-color-fitted-level-2);\n",
       "}\n",
       "\n",
       "/* Estimator-specific style */\n",
       "\n",
       "/* Colorize estimator box */\n",
       "#sk-container-id-6 div.sk-estimator input.sk-toggleable__control:checked~label.sk-toggleable__label {\n",
       "  /* unfitted */\n",
       "  background-color: var(--sklearn-color-unfitted-level-2);\n",
       "}\n",
       "\n",
       "#sk-container-id-6 div.sk-estimator.fitted input.sk-toggleable__control:checked~label.sk-toggleable__label {\n",
       "  /* fitted */\n",
       "  background-color: var(--sklearn-color-fitted-level-2);\n",
       "}\n",
       "\n",
       "#sk-container-id-6 div.sk-label label.sk-toggleable__label,\n",
       "#sk-container-id-6 div.sk-label label {\n",
       "  /* The background is the default theme color */\n",
       "  color: var(--sklearn-color-text-on-default-background);\n",
       "}\n",
       "\n",
       "/* On hover, darken the color of the background */\n",
       "#sk-container-id-6 div.sk-label:hover label.sk-toggleable__label {\n",
       "  color: var(--sklearn-color-text);\n",
       "  background-color: var(--sklearn-color-unfitted-level-2);\n",
       "}\n",
       "\n",
       "/* Label box, darken color on hover, fitted */\n",
       "#sk-container-id-6 div.sk-label.fitted:hover label.sk-toggleable__label.fitted {\n",
       "  color: var(--sklearn-color-text);\n",
       "  background-color: var(--sklearn-color-fitted-level-2);\n",
       "}\n",
       "\n",
       "/* Estimator label */\n",
       "\n",
       "#sk-container-id-6 div.sk-label label {\n",
       "  font-family: monospace;\n",
       "  font-weight: bold;\n",
       "  display: inline-block;\n",
       "  line-height: 1.2em;\n",
       "}\n",
       "\n",
       "#sk-container-id-6 div.sk-label-container {\n",
       "  text-align: center;\n",
       "}\n",
       "\n",
       "/* Estimator-specific */\n",
       "#sk-container-id-6 div.sk-estimator {\n",
       "  font-family: monospace;\n",
       "  border: 1px dotted var(--sklearn-color-border-box);\n",
       "  border-radius: 0.25em;\n",
       "  box-sizing: border-box;\n",
       "  margin-bottom: 0.5em;\n",
       "  /* unfitted */\n",
       "  background-color: var(--sklearn-color-unfitted-level-0);\n",
       "}\n",
       "\n",
       "#sk-container-id-6 div.sk-estimator.fitted {\n",
       "  /* fitted */\n",
       "  background-color: var(--sklearn-color-fitted-level-0);\n",
       "}\n",
       "\n",
       "/* on hover */\n",
       "#sk-container-id-6 div.sk-estimator:hover {\n",
       "  /* unfitted */\n",
       "  background-color: var(--sklearn-color-unfitted-level-2);\n",
       "}\n",
       "\n",
       "#sk-container-id-6 div.sk-estimator.fitted:hover {\n",
       "  /* fitted */\n",
       "  background-color: var(--sklearn-color-fitted-level-2);\n",
       "}\n",
       "\n",
       "/* Specification for estimator info (e.g. \"i\" and \"?\") */\n",
       "\n",
       "/* Common style for \"i\" and \"?\" */\n",
       "\n",
       ".sk-estimator-doc-link,\n",
       "a:link.sk-estimator-doc-link,\n",
       "a:visited.sk-estimator-doc-link {\n",
       "  float: right;\n",
       "  font-size: smaller;\n",
       "  line-height: 1em;\n",
       "  font-family: monospace;\n",
       "  background-color: var(--sklearn-color-background);\n",
       "  border-radius: 1em;\n",
       "  height: 1em;\n",
       "  width: 1em;\n",
       "  text-decoration: none !important;\n",
       "  margin-left: 1ex;\n",
       "  /* unfitted */\n",
       "  border: var(--sklearn-color-unfitted-level-1) 1pt solid;\n",
       "  color: var(--sklearn-color-unfitted-level-1);\n",
       "}\n",
       "\n",
       ".sk-estimator-doc-link.fitted,\n",
       "a:link.sk-estimator-doc-link.fitted,\n",
       "a:visited.sk-estimator-doc-link.fitted {\n",
       "  /* fitted */\n",
       "  border: var(--sklearn-color-fitted-level-1) 1pt solid;\n",
       "  color: var(--sklearn-color-fitted-level-1);\n",
       "}\n",
       "\n",
       "/* On hover */\n",
       "div.sk-estimator:hover .sk-estimator-doc-link:hover,\n",
       ".sk-estimator-doc-link:hover,\n",
       "div.sk-label-container:hover .sk-estimator-doc-link:hover,\n",
       ".sk-estimator-doc-link:hover {\n",
       "  /* unfitted */\n",
       "  background-color: var(--sklearn-color-unfitted-level-3);\n",
       "  color: var(--sklearn-color-background);\n",
       "  text-decoration: none;\n",
       "}\n",
       "\n",
       "div.sk-estimator.fitted:hover .sk-estimator-doc-link.fitted:hover,\n",
       ".sk-estimator-doc-link.fitted:hover,\n",
       "div.sk-label-container:hover .sk-estimator-doc-link.fitted:hover,\n",
       ".sk-estimator-doc-link.fitted:hover {\n",
       "  /* fitted */\n",
       "  background-color: var(--sklearn-color-fitted-level-3);\n",
       "  color: var(--sklearn-color-background);\n",
       "  text-decoration: none;\n",
       "}\n",
       "\n",
       "/* Span, style for the box shown on hovering the info icon */\n",
       ".sk-estimator-doc-link span {\n",
       "  display: none;\n",
       "  z-index: 9999;\n",
       "  position: relative;\n",
       "  font-weight: normal;\n",
       "  right: .2ex;\n",
       "  padding: .5ex;\n",
       "  margin: .5ex;\n",
       "  width: min-content;\n",
       "  min-width: 20ex;\n",
       "  max-width: 50ex;\n",
       "  color: var(--sklearn-color-text);\n",
       "  box-shadow: 2pt 2pt 4pt #999;\n",
       "  /* unfitted */\n",
       "  background: var(--sklearn-color-unfitted-level-0);\n",
       "  border: .5pt solid var(--sklearn-color-unfitted-level-3);\n",
       "}\n",
       "\n",
       ".sk-estimator-doc-link.fitted span {\n",
       "  /* fitted */\n",
       "  background: var(--sklearn-color-fitted-level-0);\n",
       "  border: var(--sklearn-color-fitted-level-3);\n",
       "}\n",
       "\n",
       ".sk-estimator-doc-link:hover span {\n",
       "  display: block;\n",
       "}\n",
       "\n",
       "/* \"?\"-specific style due to the `<a>` HTML tag */\n",
       "\n",
       "#sk-container-id-6 a.estimator_doc_link {\n",
       "  float: right;\n",
       "  font-size: 1rem;\n",
       "  line-height: 1em;\n",
       "  font-family: monospace;\n",
       "  background-color: var(--sklearn-color-background);\n",
       "  border-radius: 1rem;\n",
       "  height: 1rem;\n",
       "  width: 1rem;\n",
       "  text-decoration: none;\n",
       "  /* unfitted */\n",
       "  color: var(--sklearn-color-unfitted-level-1);\n",
       "  border: var(--sklearn-color-unfitted-level-1) 1pt solid;\n",
       "}\n",
       "\n",
       "#sk-container-id-6 a.estimator_doc_link.fitted {\n",
       "  /* fitted */\n",
       "  border: var(--sklearn-color-fitted-level-1) 1pt solid;\n",
       "  color: var(--sklearn-color-fitted-level-1);\n",
       "}\n",
       "\n",
       "/* On hover */\n",
       "#sk-container-id-6 a.estimator_doc_link:hover {\n",
       "  /* unfitted */\n",
       "  background-color: var(--sklearn-color-unfitted-level-3);\n",
       "  color: var(--sklearn-color-background);\n",
       "  text-decoration: none;\n",
       "}\n",
       "\n",
       "#sk-container-id-6 a.estimator_doc_link.fitted:hover {\n",
       "  /* fitted */\n",
       "  background-color: var(--sklearn-color-fitted-level-3);\n",
       "}\n",
       "</style><div id=\"sk-container-id-6\" class=\"sk-top-container\"><div class=\"sk-text-repr-fallback\"><pre>Pipeline(steps=[(&#x27;preprocessing&#x27;,\n",
       "                 ColumnTransformer(transformers=[(&#x27;num&#x27;,\n",
       "                                                  Pipeline(steps=[(&#x27;impute&#x27;,\n",
       "                                                                   SimpleImputer(strategy=&#x27;median&#x27;)),\n",
       "                                                                  (&#x27;standardize&#x27;,\n",
       "                                                                   StandardScaler())]),\n",
       "                                                  Index([&#x27;temp&#x27;, &#x27;humidity_relative&#x27;, &#x27;pressure&#x27;, &#x27;sunrise&#x27;, &#x27;sun_noon&#x27;,\n",
       "       &#x27;sunset&#x27;],\n",
       "      dtype=&#x27;object&#x27;)),\n",
       "                                                 (&#x27;cat&#x27;,\n",
       "                                                  Pipeline(steps=[(&#x27;impute&#x27;,\n",
       "                                                                   SimpleImputer(strategy=&#x27;most_frequent&#x27;)),\n",
       "                                                                  (&#x27;one_hot&#x27;,\n",
       "                                                                   OneHotEncoder(handle_unknown=&#x27;ignore&#x27;))]),\n",
       "                                                  Index([&#x27;cloudiness&#x27;, &#x27;hour&#x27;, &#x27;month&#x27;, &#x27;day&#x27;], dtype=&#x27;object&#x27;))])),\n",
       "                (&#x27;lin_reg&#x27;,\n",
       "                 TransformedTargetRegressor(regressor=LinearRegression(),\n",
       "                                            transformer=FunctionTransformer(func=&lt;ufunc &#x27;sqrt&#x27;&gt;,\n",
       "                                                                            inverse_func=&lt;ufunc &#x27;square&#x27;&gt;)))])</pre><b>In a Jupyter environment, please rerun this cell to show the HTML representation or trust the notebook. <br />On GitHub, the HTML representation is unable to render, please try loading this page with nbviewer.org.</b></div><div class=\"sk-container\" hidden><div class=\"sk-item sk-dashed-wrapped\"><div class=\"sk-label-container\"><div class=\"sk-label fitted sk-toggleable\"><input class=\"sk-toggleable__control sk-hidden--visually\" id=\"sk-estimator-id-55\" type=\"checkbox\" ><label for=\"sk-estimator-id-55\" class=\"sk-toggleable__label fitted sk-toggleable__label-arrow fitted\">&nbsp;&nbsp;Pipeline<a class=\"sk-estimator-doc-link fitted\" rel=\"noreferrer\" target=\"_blank\" href=\"https://scikit-learn.org/1.4/modules/generated/sklearn.pipeline.Pipeline.html\">?<span>Documentation for Pipeline</span></a><span class=\"sk-estimator-doc-link fitted\">i<span>Fitted</span></span></label><div class=\"sk-toggleable__content fitted\"><pre>Pipeline(steps=[(&#x27;preprocessing&#x27;,\n",
       "                 ColumnTransformer(transformers=[(&#x27;num&#x27;,\n",
       "                                                  Pipeline(steps=[(&#x27;impute&#x27;,\n",
       "                                                                   SimpleImputer(strategy=&#x27;median&#x27;)),\n",
       "                                                                  (&#x27;standardize&#x27;,\n",
       "                                                                   StandardScaler())]),\n",
       "                                                  Index([&#x27;temp&#x27;, &#x27;humidity_relative&#x27;, &#x27;pressure&#x27;, &#x27;sunrise&#x27;, &#x27;sun_noon&#x27;,\n",
       "       &#x27;sunset&#x27;],\n",
       "      dtype=&#x27;object&#x27;)),\n",
       "                                                 (&#x27;cat&#x27;,\n",
       "                                                  Pipeline(steps=[(&#x27;impute&#x27;,\n",
       "                                                                   SimpleImputer(strategy=&#x27;most_frequent&#x27;)),\n",
       "                                                                  (&#x27;one_hot&#x27;,\n",
       "                                                                   OneHotEncoder(handle_unknown=&#x27;ignore&#x27;))]),\n",
       "                                                  Index([&#x27;cloudiness&#x27;, &#x27;hour&#x27;, &#x27;month&#x27;, &#x27;day&#x27;], dtype=&#x27;object&#x27;))])),\n",
       "                (&#x27;lin_reg&#x27;,\n",
       "                 TransformedTargetRegressor(regressor=LinearRegression(),\n",
       "                                            transformer=FunctionTransformer(func=&lt;ufunc &#x27;sqrt&#x27;&gt;,\n",
       "                                                                            inverse_func=&lt;ufunc &#x27;square&#x27;&gt;)))])</pre></div> </div></div><div class=\"sk-serial\"><div class=\"sk-item sk-dashed-wrapped\"><div class=\"sk-label-container\"><div class=\"sk-label fitted sk-toggleable\"><input class=\"sk-toggleable__control sk-hidden--visually\" id=\"sk-estimator-id-56\" type=\"checkbox\" ><label for=\"sk-estimator-id-56\" class=\"sk-toggleable__label fitted sk-toggleable__label-arrow fitted\">&nbsp;preprocessing: ColumnTransformer<a class=\"sk-estimator-doc-link fitted\" rel=\"noreferrer\" target=\"_blank\" href=\"https://scikit-learn.org/1.4/modules/generated/sklearn.compose.ColumnTransformer.html\">?<span>Documentation for preprocessing: ColumnTransformer</span></a></label><div class=\"sk-toggleable__content fitted\"><pre>ColumnTransformer(transformers=[(&#x27;num&#x27;,\n",
       "                                 Pipeline(steps=[(&#x27;impute&#x27;,\n",
       "                                                  SimpleImputer(strategy=&#x27;median&#x27;)),\n",
       "                                                 (&#x27;standardize&#x27;,\n",
       "                                                  StandardScaler())]),\n",
       "                                 Index([&#x27;temp&#x27;, &#x27;humidity_relative&#x27;, &#x27;pressure&#x27;, &#x27;sunrise&#x27;, &#x27;sun_noon&#x27;,\n",
       "       &#x27;sunset&#x27;],\n",
       "      dtype=&#x27;object&#x27;)),\n",
       "                                (&#x27;cat&#x27;,\n",
       "                                 Pipeline(steps=[(&#x27;impute&#x27;,\n",
       "                                                  SimpleImputer(strategy=&#x27;most_frequent&#x27;)),\n",
       "                                                 (&#x27;one_hot&#x27;,\n",
       "                                                  OneHotEncoder(handle_unknown=&#x27;ignore&#x27;))]),\n",
       "                                 Index([&#x27;cloudiness&#x27;, &#x27;hour&#x27;, &#x27;month&#x27;, &#x27;day&#x27;], dtype=&#x27;object&#x27;))])</pre></div> </div></div><div class=\"sk-parallel\"><div class=\"sk-parallel-item\"><div class=\"sk-item\"><div class=\"sk-label-container\"><div class=\"sk-label fitted sk-toggleable\"><input class=\"sk-toggleable__control sk-hidden--visually\" id=\"sk-estimator-id-57\" type=\"checkbox\" ><label for=\"sk-estimator-id-57\" class=\"sk-toggleable__label fitted sk-toggleable__label-arrow fitted\">num</label><div class=\"sk-toggleable__content fitted\"><pre>Index([&#x27;temp&#x27;, &#x27;humidity_relative&#x27;, &#x27;pressure&#x27;, &#x27;sunrise&#x27;, &#x27;sun_noon&#x27;,\n",
       "       &#x27;sunset&#x27;],\n",
       "      dtype=&#x27;object&#x27;)</pre></div> </div></div><div class=\"sk-serial\"><div class=\"sk-item\"><div class=\"sk-serial\"><div class=\"sk-item\"><div class=\"sk-estimator fitted sk-toggleable\"><input class=\"sk-toggleable__control sk-hidden--visually\" id=\"sk-estimator-id-58\" type=\"checkbox\" ><label for=\"sk-estimator-id-58\" class=\"sk-toggleable__label fitted sk-toggleable__label-arrow fitted\">&nbsp;SimpleImputer<a class=\"sk-estimator-doc-link fitted\" rel=\"noreferrer\" target=\"_blank\" href=\"https://scikit-learn.org/1.4/modules/generated/sklearn.impute.SimpleImputer.html\">?<span>Documentation for SimpleImputer</span></a></label><div class=\"sk-toggleable__content fitted\"><pre>SimpleImputer(strategy=&#x27;median&#x27;)</pre></div> </div></div><div class=\"sk-item\"><div class=\"sk-estimator fitted sk-toggleable\"><input class=\"sk-toggleable__control sk-hidden--visually\" id=\"sk-estimator-id-59\" type=\"checkbox\" ><label for=\"sk-estimator-id-59\" class=\"sk-toggleable__label fitted sk-toggleable__label-arrow fitted\">&nbsp;StandardScaler<a class=\"sk-estimator-doc-link fitted\" rel=\"noreferrer\" target=\"_blank\" href=\"https://scikit-learn.org/1.4/modules/generated/sklearn.preprocessing.StandardScaler.html\">?<span>Documentation for StandardScaler</span></a></label><div class=\"sk-toggleable__content fitted\"><pre>StandardScaler()</pre></div> </div></div></div></div></div></div></div><div class=\"sk-parallel-item\"><div class=\"sk-item\"><div class=\"sk-label-container\"><div class=\"sk-label fitted sk-toggleable\"><input class=\"sk-toggleable__control sk-hidden--visually\" id=\"sk-estimator-id-60\" type=\"checkbox\" ><label for=\"sk-estimator-id-60\" class=\"sk-toggleable__label fitted sk-toggleable__label-arrow fitted\">cat</label><div class=\"sk-toggleable__content fitted\"><pre>Index([&#x27;cloudiness&#x27;, &#x27;hour&#x27;, &#x27;month&#x27;, &#x27;day&#x27;], dtype=&#x27;object&#x27;)</pre></div> </div></div><div class=\"sk-serial\"><div class=\"sk-item\"><div class=\"sk-serial\"><div class=\"sk-item\"><div class=\"sk-estimator fitted sk-toggleable\"><input class=\"sk-toggleable__control sk-hidden--visually\" id=\"sk-estimator-id-61\" type=\"checkbox\" ><label for=\"sk-estimator-id-61\" class=\"sk-toggleable__label fitted sk-toggleable__label-arrow fitted\">&nbsp;SimpleImputer<a class=\"sk-estimator-doc-link fitted\" rel=\"noreferrer\" target=\"_blank\" href=\"https://scikit-learn.org/1.4/modules/generated/sklearn.impute.SimpleImputer.html\">?<span>Documentation for SimpleImputer</span></a></label><div class=\"sk-toggleable__content fitted\"><pre>SimpleImputer(strategy=&#x27;most_frequent&#x27;)</pre></div> </div></div><div class=\"sk-item\"><div class=\"sk-estimator fitted sk-toggleable\"><input class=\"sk-toggleable__control sk-hidden--visually\" id=\"sk-estimator-id-62\" type=\"checkbox\" ><label for=\"sk-estimator-id-62\" class=\"sk-toggleable__label fitted sk-toggleable__label-arrow fitted\">&nbsp;OneHotEncoder<a class=\"sk-estimator-doc-link fitted\" rel=\"noreferrer\" target=\"_blank\" href=\"https://scikit-learn.org/1.4/modules/generated/sklearn.preprocessing.OneHotEncoder.html\">?<span>Documentation for OneHotEncoder</span></a></label><div class=\"sk-toggleable__content fitted\"><pre>OneHotEncoder(handle_unknown=&#x27;ignore&#x27;)</pre></div> </div></div></div></div></div></div></div></div></div><div class=\"sk-item sk-dashed-wrapped\"><div class=\"sk-label-container\"><div class=\"sk-label fitted sk-toggleable\"><input class=\"sk-toggleable__control sk-hidden--visually\" id=\"sk-estimator-id-63\" type=\"checkbox\" ><label for=\"sk-estimator-id-63\" class=\"sk-toggleable__label fitted sk-toggleable__label-arrow fitted\">&nbsp;lin_reg: TransformedTargetRegressor<a class=\"sk-estimator-doc-link fitted\" rel=\"noreferrer\" target=\"_blank\" href=\"https://scikit-learn.org/1.4/modules/generated/sklearn.compose.TransformedTargetRegressor.html\">?<span>Documentation for lin_reg: TransformedTargetRegressor</span></a></label><div class=\"sk-toggleable__content fitted\"><pre>TransformedTargetRegressor(regressor=LinearRegression(),\n",
       "                           transformer=FunctionTransformer(func=&lt;ufunc &#x27;sqrt&#x27;&gt;,\n",
       "                                                           inverse_func=&lt;ufunc &#x27;square&#x27;&gt;))</pre></div> </div></div><div class=\"sk-parallel\"><div class=\"sk-parallel-item\"><div class=\"sk-item\"><div class=\"sk-label-container\"><div class=\"sk-label fitted sk-toggleable\"><input class=\"sk-toggleable__control sk-hidden--visually\" id=\"sk-estimator-id-64\" type=\"checkbox\" ><label for=\"sk-estimator-id-64\" class=\"sk-toggleable__label fitted sk-toggleable__label-arrow fitted\">regressor: LinearRegression</label><div class=\"sk-toggleable__content fitted\"><pre>LinearRegression()</pre></div> </div></div><div class=\"sk-serial\"><div class=\"sk-item\"><div class=\"sk-estimator fitted sk-toggleable\"><input class=\"sk-toggleable__control sk-hidden--visually\" id=\"sk-estimator-id-65\" type=\"checkbox\" ><label for=\"sk-estimator-id-65\" class=\"sk-toggleable__label fitted sk-toggleable__label-arrow fitted\">&nbsp;LinearRegression<a class=\"sk-estimator-doc-link fitted\" rel=\"noreferrer\" target=\"_blank\" href=\"https://scikit-learn.org/1.4/modules/generated/sklearn.linear_model.LinearRegression.html\">?<span>Documentation for LinearRegression</span></a></label><div class=\"sk-toggleable__content fitted\"><pre>LinearRegression()</pre></div> </div></div></div></div></div><div class=\"sk-parallel-item\"><div class=\"sk-item\"><div class=\"sk-label-container\"><div class=\"sk-label fitted sk-toggleable\"><input class=\"sk-toggleable__control sk-hidden--visually\" id=\"sk-estimator-id-66\" type=\"checkbox\" ><label for=\"sk-estimator-id-66\" class=\"sk-toggleable__label fitted sk-toggleable__label-arrow fitted\">transformer: FunctionTransformer</label><div class=\"sk-toggleable__content fitted\"><pre>FunctionTransformer(func=&lt;ufunc &#x27;sqrt&#x27;&gt;, inverse_func=&lt;ufunc &#x27;square&#x27;&gt;)</pre></div> </div></div><div class=\"sk-serial\"><div class=\"sk-item\"><div class=\"sk-estimator fitted sk-toggleable\"><input class=\"sk-toggleable__control sk-hidden--visually\" id=\"sk-estimator-id-67\" type=\"checkbox\" ><label for=\"sk-estimator-id-67\" class=\"sk-toggleable__label fitted sk-toggleable__label-arrow fitted\">&nbsp;FunctionTransformer<a class=\"sk-estimator-doc-link fitted\" rel=\"noreferrer\" target=\"_blank\" href=\"https://scikit-learn.org/1.4/modules/generated/sklearn.preprocessing.FunctionTransformer.html\">?<span>Documentation for FunctionTransformer</span></a></label><div class=\"sk-toggleable__content fitted\"><pre>FunctionTransformer(func=&lt;ufunc &#x27;sqrt&#x27;&gt;, inverse_func=&lt;ufunc &#x27;square&#x27;&gt;)</pre></div> </div></div></div></div></div></div></div></div></div></div></div>"
      ],
      "text/plain": [
       "Pipeline(steps=[('preprocessing',\n",
       "                 ColumnTransformer(transformers=[('num',\n",
       "                                                  Pipeline(steps=[('impute',\n",
       "                                                                   SimpleImputer(strategy='median')),\n",
       "                                                                  ('standardize',\n",
       "                                                                   StandardScaler())]),\n",
       "                                                  Index(['temp', 'humidity_relative', 'pressure', 'sunrise', 'sun_noon',\n",
       "       'sunset'],\n",
       "      dtype='object')),\n",
       "                                                 ('cat',\n",
       "                                                  Pipeline(steps=[('impute',\n",
       "                                                                   SimpleImputer(strategy='most_frequent')),\n",
       "                                                                  ('one_hot',\n",
       "                                                                   OneHotEncoder(handle_unknown='ignore'))]),\n",
       "                                                  Index(['cloudiness', 'hour', 'month', 'day'], dtype='object'))])),\n",
       "                ('lin_reg',\n",
       "                 TransformedTargetRegressor(regressor=LinearRegression(),\n",
       "                                            transformer=FunctionTransformer(func=<ufunc 'sqrt'>,\n",
       "                                                                            inverse_func=<ufunc 'square'>)))])"
      ]
     },
     "execution_count": 210,
     "metadata": {},
     "output_type": "execute_result"
    }
   ],
   "source": [
    "# Linear Regression\n",
    "from sklearn.linear_model import LinearRegression\n",
    "from sklearn.compose import TransformedTargetRegressor\n",
    "\n",
    "sqrt_transformer = FunctionTransformer(np.sqrt, inverse_func=np.square)\n",
    "\n",
    "lin_reg = Pipeline([\n",
    "    (\"preprocessing\", preprocessing),\n",
    "    (\"lin_reg\", TransformedTargetRegressor(LinearRegression(), transformer=sqrt_transformer))\n",
    "])\n",
    "\n",
    "lin_reg.fit(X_train, y_train)"
   ]
  },
  {
   "cell_type": "code",
   "execution_count": 211,
   "metadata": {},
   "outputs": [
    {
     "name": "stdout",
     "output_type": "stream",
     "text": [
      "Linear Regression cross validation RMSE:  0.19402291014534404\n"
     ]
    }
   ],
   "source": [
    "# cross validation for linear regression\n",
    "from sklearn.model_selection import cross_val_score\n",
    "\n",
    "scores = -cross_val_score(lin_reg, X_train, y_train, scoring=\"neg_root_mean_squared_error\", cv=10)\n",
    "print(\"Linear Regression cross validation RMSE: \", scores.mean())"
   ]
  },
  {
   "cell_type": "code",
   "execution_count": 212,
   "metadata": {},
   "outputs": [
    {
     "name": "stdout",
     "output_type": "stream",
     "text": [
      "Linear Regression RMSE on test set:  0.19972925223093846\n",
      "Linear Regression MAE on test set:  0.10129520627535196\n"
     ]
    }
   ],
   "source": [
    "from sklearn.metrics import root_mean_squared_error, mean_absolute_error\n",
    "\n",
    "y_test_pred = lin_reg.predict(X_test)\n",
    "rmse = root_mean_squared_error(y_test, y_test_pred)\n",
    "mae = mean_absolute_error(y_test, y_test_pred)\n",
    "print(\"Linear Regression RMSE on test set: \", rmse)\n",
    "print(\"Linear Regression MAE on test set: \", mae)"
   ]
  },
  {
   "cell_type": "code",
   "execution_count": 156,
   "metadata": {},
   "outputs": [],
   "source": [
    "def plot_predictions(y_test, y_pred, size):\n",
    "    plt.figure(figsize=(12, 6))\n",
    "    size_range = range(size)\n",
    "    plt.plot(size_range, y_test[:size], label=\"Actual\")\n",
    "    plt.plot(size_range, y_pred[:size], label=\"Predicted\")\n",
    "    plt.legend()\n",
    "    plt.show()"
   ]
  },
  {
   "cell_type": "code",
   "execution_count": 158,
   "metadata": {},
   "outputs": [
    {
     "data": {
      "image/png": "[encoded data removed]",
      "text/plain": [
       "<Figure size 864x432 with 1 Axes>"
      ]
     },
     "metadata": {
      "needs_background": "light"
     },
     "output_type": "display_data"
    }
   ],
   "source": [
    "plot_predictions(y_test, y_test_pred, 50)"
   ]
  },
  {
   "cell_type": "code",
   "execution_count": 159,
   "metadata": {},
   "outputs": [
    {
     "name": "stdout",
     "output_type": "stream",
     "text": [
      "Linear Regression RMSE on train set:  0.19425423424071883\n",
      "Linear Regression MAE on train set:  0.10127955780500092\n"
     ]
    }
   ],
   "source": [
    "y_train_pred = lin_reg.predict(X_train)\n",
    "rmse = root_mean_squared_error(y_train, y_train_pred)\n",
    "mae = mean_absolute_error(y_train, y_train_pred)\n",
    "print(\"Linear Regression RMSE on train set: \", rmse)\n",
    "print(\"Linear Regression MAE on train set: \", mae)"
   ]
  },
  {
   "cell_type": "code",
   "execution_count": 165,
   "metadata": {},
   "outputs": [
    {
     "data": {
      "text/plain": [
       "['models/lin_reg.joblib']"
      ]
     },
     "execution_count": 165,
     "metadata": {},
     "output_type": "execute_result"
    }
   ],
   "source": [
    "dump(lin_reg, \"models/test/lin_reg.joblib\")"
   ]
  },
  {
   "cell_type": "markdown",
   "metadata": {},
   "source": [
    "- observation: not a lot of difference between RMSE on training set and test set => minimal to no overfitting"
   ]
  },
  {
   "cell_type": "code",
   "execution_count": 149,
   "metadata": {},
   "outputs": [
    {
     "name": "stdout",
     "output_type": "stream",
     "text": [
      "Polynomial Regression degree 2 cross validation RMSE:  0.18940952632087854\n",
      "Polynomial Regression degree 2 RMSE on training set:  0.18791612699164867\n",
      "Polynomial Regression degree 2 RMSE on test set:  0.21009782036927568\n",
      "Polynomial Regression degree 3 cross validation RMSE:  0.18187982411689216\n",
      "Polynomial Regression degree 3 RMSE on training set:  0.1779894600835306\n",
      "Polynomial Regression degree 3 RMSE on test set:  0.19808825007244082\n",
      "Polynomial Regression degree 4 cross validation RMSE:  0.17832990694040743\n",
      "Polynomial Regression degree 4 RMSE on training set:  0.17164226043079903\n",
      "Polynomial Regression degree 4 RMSE on test set:  0.19207146039648731\n",
      "Polynomial Regression degree 5 cross validation RMSE:  0.17680524537242284\n",
      "Polynomial Regression degree 5 RMSE on training set:  0.15992386631351224\n",
      "Polynomial Regression degree 5 RMSE on test set:  0.18229199561344422\n",
      "Polynomial Regression degree 6 cross validation RMSE:  0.18764473494884845\n",
      "Polynomial Regression degree 6 RMSE on training set:  0.1427872528489824\n",
      "Polynomial Regression degree 6 RMSE on test set:  0.17777979345857786\n",
      "Polynomial Regression degree 7 cross validation RMSE:  0.23719937229868523\n",
      "Polynomial Regression degree 7 RMSE on training set:  0.11824032926393345\n",
      "Polynomial Regression degree 7 RMSE on test set:  0.17173873831553144\n",
      "Polynomial Regression degree 8 cross validation RMSE:  2.733072946356699\n",
      "Polynomial Regression degree 8 RMSE on training set:  0.09212995124498825\n",
      "Polynomial Regression degree 8 RMSE on test set:  0.49084628058288005\n",
      "Best degree for polynomial regression:  5\n"
     ]
    }
   ],
   "source": [
    "# Polynomial Regression with different degrees\n",
    "from sklearn.preprocessing import PolynomialFeatures\n",
    "from sklearn.base import clone\n",
    "\n",
    "degrees = [2, 3, 4, 5, 6, 7, 8]\n",
    "best_score = np.inf\n",
    "best_degree = 0\n",
    "poly_regs = {}\n",
    "\n",
    "for degree in degrees:\n",
    "    new_num_pipeline = clone(num_pipeline)\n",
    "    poly_features = PolynomialFeatures(degree=degree)\n",
    "    new_num_pipeline.steps.append([\"poly_features\", poly_features])\n",
    "    new_preprocessing = ColumnTransformer([\n",
    "        (\"num\", new_num_pipeline, num_attribs),\n",
    "        (\"cat\", cat_pipline, cat_attribs)\n",
    "    ])\n",
    "    poly_reg = Pipeline([\n",
    "        (\"preprocessing\", new_preprocessing),\n",
    "        (\"lin_reg\", TransformedTargetRegressor(LinearRegression(), transformer=sqrt_transformer))\n",
    "    ])\n",
    "    scores = -cross_val_score(poly_reg, X_train, y_train, scoring=\"neg_root_mean_squared_error\", cv=5)\n",
    "    print(f\"Polynomial Regression degree {degree} cross validation RMSE: \", scores.mean())\n",
    "    poly_reg.fit(X_train, y_train)\n",
    "    poly_regs[f\"poly_reg_{degree}\"] = poly_reg\n",
    "    y_train_pred = poly_reg.predict(X_train)\n",
    "    rmse = root_mean_squared_error(y_train, y_train_pred)\n",
    "    print(f\"Polynomial Regression degree {degree} RMSE on training set: \", rmse)\n",
    "    y_test_pred = poly_reg.predict(X_test)\n",
    "    rmse = root_mean_squared_error(y_test, y_test_pred)\n",
    "    print(f\"Polynomial Regression degree {degree} RMSE on test set: \", rmse)\n",
    "    if scores.mean() < best_score:\n",
    "        best_score = scores.mean()\n",
    "        best_degree = degree\n",
    "\n",
    "print(\"Best degree for polynomial regression: \", best_degree)"
   ]
  },
  {
   "cell_type": "code",
   "execution_count": 161,
   "metadata": {},
   "outputs": [
    {
     "data": {
      "image/png": "[encoded data removed]",
      "text/plain": [
       "<Figure size 864x432 with 1 Axes>"
      ]
     },
     "metadata": {
      "needs_background": "light"
     },
     "output_type": "display_data"
    }
   ],
   "source": [
    "poly_reg = poly_regs[f\"poly_reg_{best_degree}\"]\n",
    "plot_predictions(y_test, poly_reg.predict(X_test), 50)"
   ]
  },
  {
   "cell_type": "code",
   "execution_count": 164,
   "metadata": {},
   "outputs": [
    {
     "data": {
      "text/plain": [
       "['models/poly_reg.joblib']"
      ]
     },
     "execution_count": 164,
     "metadata": {},
     "output_type": "execute_result"
    }
   ],
   "source": [
    "dump(poly_reg, \"models/test/poly_reg.joblib\")"
   ]
  },
  {
   "cell_type": "code",
   "execution_count": 167,
   "metadata": {},
   "outputs": [
    {
     "name": "stdout",
     "output_type": "stream",
     "text": [
      "Ridge Regression degree 2 best parameters:  {'ridge_reg__regressor__alpha': 1e-05}\n",
      "Ridge Regression degree 2 best score:  0.1892318375030834\n",
      "Ridge Regression degree 2 RMSE on training set:  0.1873277714707708\n",
      "Ridge Regression degree 3 best parameters:  {'ridge_reg__regressor__alpha': 1e-05}\n",
      "Ridge Regression degree 3 best score:  0.18183977148140826\n",
      "Ridge Regression degree 3 RMSE on training set:  0.17806418211866132\n",
      "Ridge Regression degree 4 best parameters:  {'ridge_reg__regressor__alpha': 1e-05}\n",
      "Ridge Regression degree 4 best score:  0.1785617096652376\n",
      "Ridge Regression degree 4 RMSE on training set:  0.17229174941730005\n",
      "Ridge Regression degree 5 best parameters:  {'ridge_reg__regressor__alpha': 1e-05}\n",
      "Ridge Regression degree 5 best score:  0.17830010624785744\n",
      "Ridge Regression degree 5 RMSE on training set:  0.16357941425364053\n",
      "Ridge Regression degree 6 best parameters:  {'ridge_reg__regressor__alpha': 0.1}\n",
      "Ridge Regression degree 6 best score:  0.17764787042191138\n",
      "Ridge Regression degree 6 RMSE on training set:  0.1570822353932435\n"
     ]
    },
    {
     "name": "stderr",
     "output_type": "stream",
     "text": [
      "c:\\Users\\jules\\AppData\\Local\\Programs\\Python\\Python310\\lib\\site-packages\\sklearn\\linear_model\\_ridge.py:204: LinAlgWarning: Ill-conditioned matrix (rcond=7.78851e-17): result may not be accurate.\n",
      "  return linalg.solve(A, Xy, assume_a=\"pos\", overwrite_a=True).T\n",
      "c:\\Users\\jules\\AppData\\Local\\Programs\\Python\\Python310\\lib\\site-packages\\sklearn\\linear_model\\_ridge.py:204: LinAlgWarning: Ill-conditioned matrix (rcond=8.05522e-17): result may not be accurate.\n",
      "  return linalg.solve(A, Xy, assume_a=\"pos\", overwrite_a=True).T\n",
      "c:\\Users\\jules\\AppData\\Local\\Programs\\Python\\Python310\\lib\\site-packages\\sklearn\\linear_model\\_ridge.py:204: LinAlgWarning: Ill-conditioned matrix (rcond=8.48037e-17): result may not be accurate.\n",
      "  return linalg.solve(A, Xy, assume_a=\"pos\", overwrite_a=True).T\n",
      "c:\\Users\\jules\\AppData\\Local\\Programs\\Python\\Python310\\lib\\site-packages\\sklearn\\linear_model\\_ridge.py:204: LinAlgWarning: Ill-conditioned matrix (rcond=8.54628e-17): result may not be accurate.\n",
      "  return linalg.solve(A, Xy, assume_a=\"pos\", overwrite_a=True).T\n",
      "c:\\Users\\jules\\AppData\\Local\\Programs\\Python\\Python310\\lib\\site-packages\\sklearn\\linear_model\\_ridge.py:204: LinAlgWarning: Ill-conditioned matrix (rcond=8.26858e-17): result may not be accurate.\n",
      "  return linalg.solve(A, Xy, assume_a=\"pos\", overwrite_a=True).T\n",
      "c:\\Users\\jules\\AppData\\Local\\Programs\\Python\\Python310\\lib\\site-packages\\sklearn\\linear_model\\_ridge.py:204: LinAlgWarning: Ill-conditioned matrix (rcond=6.5288e-17): result may not be accurate.\n",
      "  return linalg.solve(A, Xy, assume_a=\"pos\", overwrite_a=True).T\n"
     ]
    },
    {
     "name": "stdout",
     "output_type": "stream",
     "text": [
      "Ridge Regression degree 7 best parameters:  {'ridge_reg__regressor__alpha': 1e-05}\n",
      "Ridge Regression degree 7 best score:  0.18527283585445203\n",
      "Ridge Regression degree 7 RMSE on training set:  0.13333797315693988\n"
     ]
    },
    {
     "name": "stderr",
     "output_type": "stream",
     "text": [
      "c:\\Users\\jules\\AppData\\Local\\Programs\\Python\\Python310\\lib\\site-packages\\sklearn\\linear_model\\_ridge.py:204: LinAlgWarning: Ill-conditioned matrix (rcond=3.60969e-18): result may not be accurate.\n",
      "  return linalg.solve(A, Xy, assume_a=\"pos\", overwrite_a=True).T\n",
      "c:\\Users\\jules\\AppData\\Local\\Programs\\Python\\Python310\\lib\\site-packages\\sklearn\\linear_model\\_ridge.py:204: LinAlgWarning: Ill-conditioned matrix (rcond=3.87236e-18): result may not be accurate.\n",
      "  return linalg.solve(A, Xy, assume_a=\"pos\", overwrite_a=True).T\n",
      "c:\\Users\\jules\\AppData\\Local\\Programs\\Python\\Python310\\lib\\site-packages\\sklearn\\linear_model\\_ridge.py:204: LinAlgWarning: Ill-conditioned matrix (rcond=4.15007e-18): result may not be accurate.\n",
      "  return linalg.solve(A, Xy, assume_a=\"pos\", overwrite_a=True).T\n",
      "c:\\Users\\jules\\AppData\\Local\\Programs\\Python\\Python310\\lib\\site-packages\\sklearn\\linear_model\\_ridge.py:204: LinAlgWarning: Ill-conditioned matrix (rcond=4.09912e-18): result may not be accurate.\n",
      "  return linalg.solve(A, Xy, assume_a=\"pos\", overwrite_a=True).T\n",
      "c:\\Users\\jules\\AppData\\Local\\Programs\\Python\\Python310\\lib\\site-packages\\sklearn\\linear_model\\_ridge.py:204: LinAlgWarning: Ill-conditioned matrix (rcond=3.9054e-18): result may not be accurate.\n",
      "  return linalg.solve(A, Xy, assume_a=\"pos\", overwrite_a=True).T\n"
     ]
    },
    {
     "name": "stdout",
     "output_type": "stream",
     "text": [
      "Ridge Regression degree 8 best parameters:  {'ridge_reg__regressor__alpha': 1}\n",
      "Ridge Regression degree 8 best score:  0.37734030236129057\n",
      "Ridge Regression degree 8 RMSE on training set:  0.14136046914976444\n"
     ]
    }
   ],
   "source": [
    "# Ridge and Lasso Regression\n",
    "from sklearn.linear_model import Ridge, Lasso\n",
    "from sklearn.model_selection import GridSearchCV\n",
    "\n",
    "for degree in degrees:\n",
    "    new_num_pipeline = clone(num_pipeline)\n",
    "    poly_features = PolynomialFeatures(degree=degree)\n",
    "    new_num_pipeline.steps.append([\"poly_features\", poly_features])\n",
    "    new_preprocessing = ColumnTransformer([\n",
    "        (\"num\", new_num_pipeline, num_attribs),\n",
    "        (\"cat\", cat_pipline, cat_attribs)\n",
    "    ])\n",
    "\n",
    "    # Ridge\n",
    "    ridge_reg = Pipeline([\n",
    "        (\"preprocessing\", new_preprocessing),\n",
    "        (\"ridge_reg\", TransformedTargetRegressor(Ridge(random_state=42), transformer=sqrt_transformer))\n",
    "    ])\n",
    "    param_grid_ridge = {\n",
    "        \"ridge_reg__regressor__alpha\": [10**-5, 0.001, 0.1, 1]\n",
    "    }\n",
    "    grid_search_ridge = GridSearchCV(ridge_reg, param_grid_ridge, cv=5, scoring=\"neg_root_mean_squared_error\")\n",
    "    grid_search_ridge.fit(X_train, y_train)\n",
    "    model = grid_search_ridge.best_estimator_\n",
    "    x_train_pred = model.predict(X_train)\n",
    "    rmse = root_mean_squared_error(y_train, x_train_pred)\n",
    "    \n",
    "    print(f\"Ridge Regression degree {degree} best parameters: \", grid_search_ridge.best_params_)\n",
    "    print(f\"Ridge Regression degree {degree} best score: \", -grid_search_ridge.best_score_)\n",
    "    print(f\"Ridge Regression degree {degree} RMSE on training set: \", rmse)\n",
    "\n",
    "    # # Lasso\n",
    "    # lasso_reg = Pipeline([\n",
    "    #     (\"preprocessing\", new_preprocessing),\n",
    "    #     (\"lasso_reg\", TransformedTargetRegressor(Lasso(random_state=42, max_iter=10000), transformer=sqrt_transformer))\n",
    "    # ])\n",
    "    # param_grid_lasso = {\n",
    "    #     \"lasso_reg__regressor__alpha\": [10**-5, 0.001, 0.1, 1]\n",
    "    # }\n",
    "    # grid_search_lasso = GridSearchCV(lasso_reg, param_grid_lasso, cv=5, scoring=\"neg_root_mean_squared_error\")\n",
    "    # grid_search_lasso.fit(X_train, y_train)\n",
    "    # print(f\"Lasso Regression degree {degree} best parameters: \", grid_search_lasso.best_params_)\n",
    "    # print(f\"Lasso Regression degree {degree} best score: \", -grid_search_lasso.best_score_)\n"
   ]
  },
  {
   "cell_type": "code",
   "execution_count": 171,
   "metadata": {},
   "outputs": [
    {
     "name": "stdout",
     "output_type": "stream",
     "text": [
      "Random Forest best parameters:  {'forest_reg__max_features': 20, 'forest_reg__n_estimators': 100}\n",
      "Random Forest best score:  0.1684534565314618\n"
     ]
    }
   ],
   "source": [
    "# Random Forest\n",
    "from sklearn.ensemble import RandomForestRegressor\n",
    "from sklearn.model_selection import GridSearchCV\n",
    "\n",
    "forest_reg = Pipeline([\n",
    "    (\"preprocessing\", preprocessing),\n",
    "    (\"forest_reg\", RandomForestRegressor(random_state=42))\n",
    "])\n",
    "\n",
    "param_grid = [\n",
    "    {\"forest_reg__n_estimators\": [100, 200], \"forest_reg__max_features\": [10, 15, 20, 25]},\n",
    "]\n",
    " \n",
    "grid_search = GridSearchCV(forest_reg, param_grid, cv=5, scoring=\"neg_root_mean_squared_error\")\n",
    "grid_search.fit(X_train, y_train)\n",
    "\n",
    "print(\"Random Forest best parameters: \", grid_search.best_params_)\n",
    "print(\"Random Forest best score: \", -grid_search.best_score_)"
   ]
  },
  {
   "cell_type": "code",
   "execution_count": 172,
   "metadata": {},
   "outputs": [
    {
     "data": {
      "text/html": [
       "<div>\n",
       "<style scoped>\n",
       "    .dataframe tbody tr th:only-of-type {\n",
       "        vertical-align: middle;\n",
       "    }\n",
       "\n",
       "    .dataframe tbody tr th {\n",
       "        vertical-align: top;\n",
       "    }\n",
       "\n",
       "    .dataframe thead th {\n",
       "        text-align: right;\n",
       "    }\n",
       "</style>\n",
       "<table border=\"1\" class=\"dataframe\">\n",
       "  <thead>\n",
       "    <tr style=\"text-align: right;\">\n",
       "      <th></th>\n",
       "      <th>mean_fit_time</th>\n",
       "      <th>std_fit_time</th>\n",
       "      <th>mean_score_time</th>\n",
       "      <th>std_score_time</th>\n",
       "      <th>param_forest_reg__max_features</th>\n",
       "      <th>param_forest_reg__n_estimators</th>\n",
       "      <th>params</th>\n",
       "      <th>split0_test_score</th>\n",
       "      <th>split1_test_score</th>\n",
       "      <th>split2_test_score</th>\n",
       "      <th>split3_test_score</th>\n",
       "      <th>split4_test_score</th>\n",
       "      <th>mean_test_score</th>\n",
       "      <th>std_test_score</th>\n",
       "      <th>rank_test_score</th>\n",
       "    </tr>\n",
       "  </thead>\n",
       "  <tbody>\n",
       "    <tr>\n",
       "      <th>4</th>\n",
       "      <td>7.446616</td>\n",
       "      <td>0.396798</td>\n",
       "      <td>0.048836</td>\n",
       "      <td>0.011338</td>\n",
       "      <td>20</td>\n",
       "      <td>100</td>\n",
       "      <td>{'forest_reg__max_features': 20, 'forest_reg__...</td>\n",
       "      <td>-0.168834</td>\n",
       "      <td>-0.162311</td>\n",
       "      <td>-0.167460</td>\n",
       "      <td>-0.163920</td>\n",
       "      <td>-0.179742</td>\n",
       "      <td>-0.168453</td>\n",
       "      <td>0.006113</td>\n",
       "      <td>1</td>\n",
       "    </tr>\n",
       "    <tr>\n",
       "      <th>5</th>\n",
       "      <td>15.446879</td>\n",
       "      <td>2.327853</td>\n",
       "      <td>0.083934</td>\n",
       "      <td>0.006795</td>\n",
       "      <td>20</td>\n",
       "      <td>200</td>\n",
       "      <td>{'forest_reg__max_features': 20, 'forest_reg__...</td>\n",
       "      <td>-0.168779</td>\n",
       "      <td>-0.163432</td>\n",
       "      <td>-0.167265</td>\n",
       "      <td>-0.164467</td>\n",
       "      <td>-0.180572</td>\n",
       "      <td>-0.168903</td>\n",
       "      <td>0.006140</td>\n",
       "      <td>2</td>\n",
       "    </tr>\n",
       "    <tr>\n",
       "      <th>7</th>\n",
       "      <td>16.094177</td>\n",
       "      <td>0.230109</td>\n",
       "      <td>0.078073</td>\n",
       "      <td>0.007368</td>\n",
       "      <td>25</td>\n",
       "      <td>200</td>\n",
       "      <td>{'forest_reg__max_features': 25, 'forest_reg__...</td>\n",
       "      <td>-0.168784</td>\n",
       "      <td>-0.162334</td>\n",
       "      <td>-0.169201</td>\n",
       "      <td>-0.165398</td>\n",
       "      <td>-0.181687</td>\n",
       "      <td>-0.169481</td>\n",
       "      <td>0.006593</td>\n",
       "      <td>3</td>\n",
       "    </tr>\n",
       "    <tr>\n",
       "      <th>3</th>\n",
       "      <td>14.448750</td>\n",
       "      <td>0.928424</td>\n",
       "      <td>0.098614</td>\n",
       "      <td>0.030114</td>\n",
       "      <td>15</td>\n",
       "      <td>200</td>\n",
       "      <td>{'forest_reg__max_features': 15, 'forest_reg__...</td>\n",
       "      <td>-0.171664</td>\n",
       "      <td>-0.164658</td>\n",
       "      <td>-0.165824</td>\n",
       "      <td>-0.166043</td>\n",
       "      <td>-0.182525</td>\n",
       "      <td>-0.170143</td>\n",
       "      <td>0.006651</td>\n",
       "      <td>4</td>\n",
       "    </tr>\n",
       "    <tr>\n",
       "      <th>6</th>\n",
       "      <td>8.104703</td>\n",
       "      <td>0.080246</td>\n",
       "      <td>0.043202</td>\n",
       "      <td>0.002785</td>\n",
       "      <td>25</td>\n",
       "      <td>100</td>\n",
       "      <td>{'forest_reg__max_features': 25, 'forest_reg__...</td>\n",
       "      <td>-0.170468</td>\n",
       "      <td>-0.162587</td>\n",
       "      <td>-0.169707</td>\n",
       "      <td>-0.166277</td>\n",
       "      <td>-0.181832</td>\n",
       "      <td>-0.170174</td>\n",
       "      <td>0.006465</td>\n",
       "      <td>5</td>\n",
       "    </tr>\n",
       "  </tbody>\n",
       "</table>\n",
       "</div>"
      ],
      "text/plain": [
       "   mean_fit_time  std_fit_time  mean_score_time  std_score_time  \\\n",
       "4       7.446616      0.396798         0.048836        0.011338   \n",
       "5      15.446879      2.327853         0.083934        0.006795   \n",
       "7      16.094177      0.230109         0.078073        0.007368   \n",
       "3      14.448750      0.928424         0.098614        0.030114   \n",
       "6       8.104703      0.080246         0.043202        0.002785   \n",
       "\n",
       "  param_forest_reg__max_features param_forest_reg__n_estimators  \\\n",
       "4                             20                            100   \n",
       "5                             20                            200   \n",
       "7                             25                            200   \n",
       "3                             15                            200   \n",
       "6                             25                            100   \n",
       "\n",
       "                                              params  split0_test_score  \\\n",
       "4  {'forest_reg__max_features': 20, 'forest_reg__...          -0.168834   \n",
       "5  {'forest_reg__max_features': 20, 'forest_reg__...          -0.168779   \n",
       "7  {'forest_reg__max_features': 25, 'forest_reg__...          -0.168784   \n",
       "3  {'forest_reg__max_features': 15, 'forest_reg__...          -0.171664   \n",
       "6  {'forest_reg__max_features': 25, 'forest_reg__...          -0.170468   \n",
       "\n",
       "   split1_test_score  split2_test_score  split3_test_score  split4_test_score  \\\n",
       "4          -0.162311          -0.167460          -0.163920          -0.179742   \n",
       "5          -0.163432          -0.167265          -0.164467          -0.180572   \n",
       "7          -0.162334          -0.169201          -0.165398          -0.181687   \n",
       "3          -0.164658          -0.165824          -0.166043          -0.182525   \n",
       "6          -0.162587          -0.169707          -0.166277          -0.181832   \n",
       "\n",
       "   mean_test_score  std_test_score  rank_test_score  \n",
       "4        -0.168453        0.006113                1  \n",
       "5        -0.168903        0.006140                2  \n",
       "7        -0.169481        0.006593                3  \n",
       "3        -0.170143        0.006651                4  \n",
       "6        -0.170174        0.006465                5  "
      ]
     },
     "execution_count": 172,
     "metadata": {},
     "output_type": "execute_result"
    }
   ],
   "source": [
    "cv_res = pd.DataFrame(grid_search.cv_results_)\n",
    "cv_res.sort_values(by=\"mean_test_score\", ascending=False, inplace=True)\n",
    "cv_res.head()"
   ]
  },
  {
   "cell_type": "code",
   "execution_count": 173,
   "metadata": {},
   "outputs": [
    {
     "data": {
      "text/plain": [
       "[(0.3401406331836373, 'num__humidity_relative'),\n",
       " (0.08518314619415251, 'num__temp'),\n",
       " (0.05919711394701866, 'cat__hour_12.0'),\n",
       " (0.053883139547869774, 'cat__hour_13.0'),\n",
       " (0.04966079152078073, 'cat__hour_11.0'),\n",
       " (0.046810794339570666, 'cat__hour_14.0'),\n",
       " (0.04105345194854742, 'num__sunset'),\n",
       " (0.03779451842193147, 'num__pressure'),\n",
       " (0.03297562565681174, 'num__sunrise'),\n",
       " (0.030490312221842376, 'cat__hour_10.0'),\n",
       " (0.028734163438349006, 'num__sun_noon'),\n",
       " (0.02532607393080195, 'cat__hour_15.0'),\n",
       " (0.0182827322684427, 'cat__hour_18.0'),\n",
       " (0.015079192352714153, 'cat__hour_16.0'),\n",
       " (0.014030406877940771, 'cat__hour_19.0'),\n",
       " (0.012721940097530542, 'cat__hour_9.0'),\n",
       " (0.010074039566244702, 'cat__hour_17.0'),\n",
       " (0.00808949148480006, 'cat__cloudiness_7.0'),\n",
       " (0.007879459786291947, 'cat__hour_20.0'),\n",
       " (0.0066020116333177494, 'cat__cloudiness_8.0'),\n",
       " (0.0058142407320126285, 'cat__month_5.0'),\n",
       " (0.004198473032865203, 'cat__cloudiness_7.5'),\n",
       " (0.0040426847307664686, 'cat__hour_8.0'),\n",
       " (0.0031758664147183173, 'cat__cloudiness_6.0'),\n",
       " (0.003150230031739797, 'cat__cloudiness_3.0'),\n",
       " (0.003094766799801294, 'cat__hour_21.0'),\n",
       " (0.0028880109343853723, 'cat__day_5.0'),\n",
       " (0.0028660809845100416, 'cat__cloudiness_4.0'),\n",
       " (0.0028073773507115317, 'cat__cloudiness_5.0'),\n",
       " (0.0027568359290831026, 'cat__cloudiness_1.0'),\n",
       " (0.002578804404218808, 'cat__day_3.0'),\n",
       " (0.0024380759849678816, 'cat__day_0.0'),\n",
       " (0.0023982422838098854, 'cat__day_4.0'),\n",
       " (0.00234072416358769, 'cat__month_3.0'),\n",
       " (0.00230081726231759, 'cat__day_2.0'),\n",
       " (0.0022621257562606203, 'cat__day_1.0'),\n",
       " (0.0020083029814099277, 'cat__month_4.0'),\n",
       " (0.001968744889837325, 'cat__day_6.0'),\n",
       " (0.001918791524504069, 'cat__cloudiness_2.0'),\n",
       " (0.00161521064153779, 'cat__month_8.0'),\n",
       " (0.0015469642036182723, 'cat__cloudiness_0.5'),\n",
       " (0.0015164692061804825, 'cat__cloudiness_6.5'),\n",
       " (0.001470569118611436, 'cat__hour_22.0'),\n",
       " (0.0012995458347074696, 'cat__month_7.0'),\n",
       " (0.001156835921162836, 'cat__month_10.0'),\n",
       " (0.0011129958136722753, 'cat__cloudiness_3.5'),\n",
       " (0.0011022224712795392, 'cat__month_1.0'),\n",
       " (0.0010758789333102097, 'cat__cloudiness_2.5'),\n",
       " (0.0010734454896473926, 'cat__cloudiness_5.5'),\n",
       " (0.0010383350703104916, 'cat__month_6.0'),\n",
       " (0.0009961216041129146, 'cat__hour_7.0'),\n",
       " (0.0009689740270609466, 'cat__cloudiness_1.5'),\n",
       " (0.0007892784959663057, 'cat__cloudiness_4.5'),\n",
       " (0.0007809679134892182, 'cat__month_9.0'),\n",
       " (0.0006920746353943519, 'cat__month_2.0'),\n",
       " (0.0005908362610450497, 'cat__hour_23.0'),\n",
       " (0.0005165723415547349, 'cat__month_12.0'),\n",
       " (0.00046338909542355505, 'cat__month_11.0'),\n",
       " (0.00029121016032024793, 'cat__hour_0.0'),\n",
       " (0.0002786826984561724, 'cat__cloudiness_0.0'),\n",
       " (0.00017723987429521428, 'cat__hour_6.0'),\n",
       " (0.0001680434733482632, 'cat__hour_1.0'),\n",
       " (0.00011974916730363184, 'cat__hour_2.0'),\n",
       " (5.8974225941168195e-05, 'cat__hour_3.0'),\n",
       " (4.6602679283130266e-05, 'cat__hour_5.0'),\n",
       " (3.4576032863215474e-05, 'cat__hour_4.0')]"
      ]
     },
     "execution_count": 173,
     "metadata": {},
     "output_type": "execute_result"
    }
   ],
   "source": [
    "model = grid_search.best_estimator_\n",
    "feature_importances = model[\"forest_reg\"].feature_importances_\n",
    "sorted(zip(feature_importances, model[\"preprocessing\"].get_feature_names_out()), reverse=True)"
   ]
  },
  {
   "cell_type": "code",
   "execution_count": 176,
   "metadata": {},
   "outputs": [
    {
     "name": "stdout",
     "output_type": "stream",
     "text": [
      "Random Forest RMSE on test set:  0.17570944247525563\n",
      "Random Forest MAE on test set:  0.08534867680851184\n"
     ]
    }
   ],
   "source": [
    "y_test_pred = model.predict(X_test)\n",
    "rmse = root_mean_squared_error(y_test, y_test_pred)\n",
    "mae = mean_absolute_error(y_test, y_test_pred)\n",
    "print(\"Random Forest RMSE on test set: \", rmse)\n",
    "print(\"Random Forest MAE on test set: \", mae)"
   ]
  },
  {
   "cell_type": "code",
   "execution_count": 177,
   "metadata": {},
   "outputs": [
    {
     "name": "stdout",
     "output_type": "stream",
     "text": [
      "Random Forest RMSE on training set:  0.06225230848934994\n"
     ]
    }
   ],
   "source": [
    "y_train_pred = model.predict(X_train)\n",
    "rmse = root_mean_squared_error(y_train, y_train_pred)\n",
    "print(\"Random Forest RMSE on training set: \", rmse)"
   ]
  },
  {
   "cell_type": "code",
   "execution_count": 213,
   "metadata": {},
   "outputs": [
    {
     "data": {
      "image/png": "[encoded data removed]",
      "text/plain": [
       "<Figure size 864x432 with 1 Axes>"
      ]
     },
     "metadata": {
      "needs_background": "light"
     },
     "output_type": "display_data"
    }
   ],
   "source": [
    "plot_predictions(y_test, y_test_pred, 50)"
   ]
  },
  {
   "cell_type": "code",
   "execution_count": 178,
   "metadata": {},
   "outputs": [
    {
     "data": {
      "text/plain": [
       "['models/test/random_forest.joblib']"
      ]
     },
     "execution_count": 178,
     "metadata": {},
     "output_type": "execute_result"
    }
   ],
   "source": [
    "dump(model, \"models/test/random_forest.joblib\")"
   ]
  }
 ],
 "metadata": {
  "kernelspec": {
   "display_name": "Python 3",
   "language": "python",
   "name": "python3"
  },
  "language_info": {
   "codemirror_mode": {
    "name": "ipython",
    "version": 3
   },
   "file_extension": ".py",
   "mimetype": "text/x-python",
   "name": "python",
   "nbconvert_exporter": "python",
   "pygments_lexer": "ipython3",
   "version": "3.10.11"
  }
 },
 "nbformat": 4,
 "nbformat_minor": 2
}
